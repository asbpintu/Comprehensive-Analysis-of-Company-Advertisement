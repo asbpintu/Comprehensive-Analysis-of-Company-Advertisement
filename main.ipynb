{
 "cells": [
  {
   "cell_type": "code",
   "execution_count": 1,
   "id": "18cdd5a5",
   "metadata": {},
   "outputs": [],
   "source": [
    "import numpy as np\n",
    "import pandas as pd\n",
    "import matplotlib.pyplot as plt\n",
    "from datetime import datetime, timedelta"
   ]
  },
  {
   "cell_type": "code",
   "execution_count": 2,
   "id": "ba8f5f6a",
   "metadata": {},
   "outputs": [],
   "source": [
    "import warnings\n",
    "warnings.filterwarnings(\"ignore\")"
   ]
  },
  {
   "cell_type": "code",
   "execution_count": 3,
   "id": "6eebaf5e",
   "metadata": {},
   "outputs": [],
   "source": [
    "google_ads_o = pd.read_csv('Google Ads Data.csv')\n",
    "listing_site_o = pd.read_csv('Listing Site Data.csv')\n",
    "google_ads = google_ads_o.copy()\n",
    "listing_site = listing_site_o.copy()"
   ]
  },
  {
   "cell_type": "code",
   "execution_count": 4,
   "id": "f06d2ef6",
   "metadata": {
    "scrolled": true
   },
   "outputs": [
    {
     "data": {
      "text/html": [
       "<div>\n",
       "<style scoped>\n",
       "    .dataframe tbody tr th:only-of-type {\n",
       "        vertical-align: middle;\n",
       "    }\n",
       "\n",
       "    .dataframe tbody tr th {\n",
       "        vertical-align: top;\n",
       "    }\n",
       "\n",
       "    .dataframe thead th {\n",
       "        text-align: right;\n",
       "    }\n",
       "</style>\n",
       "<table border=\"1\" class=\"dataframe\">\n",
       "  <thead>\n",
       "    <tr style=\"text-align: right;\">\n",
       "      <th></th>\n",
       "      <th>Week</th>\n",
       "      <th>Campaign</th>\n",
       "      <th>Ad group</th>\n",
       "      <th>Keyword type</th>\n",
       "      <th>Search Keyword</th>\n",
       "      <th>Currency</th>\n",
       "      <th>Clicks</th>\n",
       "      <th>Impressions</th>\n",
       "      <th>Cost ($)</th>\n",
       "      <th>Leads</th>\n",
       "      <th>Prospects</th>\n",
       "      <th>Payment ($)</th>\n",
       "      <th>Payment Date</th>\n",
       "      <th>Country</th>\n",
       "    </tr>\n",
       "  </thead>\n",
       "  <tbody>\n",
       "    <tr>\n",
       "      <th>0</th>\n",
       "      <td>25-Jan-21</td>\n",
       "      <td>EK_Generic_Swimming</td>\n",
       "      <td>Pool_Reservation_System_Exact</td>\n",
       "      <td>Exact</td>\n",
       "      <td>pool reservation system</td>\n",
       "      <td>USD</td>\n",
       "      <td>2</td>\n",
       "      <td>17</td>\n",
       "      <td>38.33</td>\n",
       "      <td>0</td>\n",
       "      <td>1</td>\n",
       "      <td>$980</td>\n",
       "      <td>03-Feb-21</td>\n",
       "      <td>USA</td>\n",
       "    </tr>\n",
       "    <tr>\n",
       "      <th>1</th>\n",
       "      <td>25-Jan-21</td>\n",
       "      <td>EK_Generic_Swimming</td>\n",
       "      <td>Pool_Booking_App_Exact</td>\n",
       "      <td>Exact</td>\n",
       "      <td>pool booking app</td>\n",
       "      <td>USD</td>\n",
       "      <td>1</td>\n",
       "      <td>13</td>\n",
       "      <td>11.70</td>\n",
       "      <td>0</td>\n",
       "      <td>0</td>\n",
       "      <td>NaN</td>\n",
       "      <td>NaN</td>\n",
       "      <td>USA</td>\n",
       "    </tr>\n",
       "  </tbody>\n",
       "</table>\n",
       "</div>"
      ],
      "text/plain": [
       "        Week             Campaign                       Ad group Keyword type  \\\n",
       "0  25-Jan-21  EK_Generic_Swimming  Pool_Reservation_System_Exact        Exact   \n",
       "1  25-Jan-21  EK_Generic_Swimming         Pool_Booking_App_Exact        Exact   \n",
       "\n",
       "            Search Keyword Currency  Clicks  Impressions  Cost ($)  Leads  \\\n",
       "0  pool reservation system      USD       2           17     38.33      0   \n",
       "1         pool booking app      USD       1           13     11.70      0   \n",
       "\n",
       "   Prospects Payment ($) Payment Date Country  \n",
       "0          1        $980    03-Feb-21     USA  \n",
       "1          0         NaN          NaN     USA  "
      ]
     },
     "execution_count": 4,
     "metadata": {},
     "output_type": "execute_result"
    }
   ],
   "source": [
    "google_ads.head(2)"
   ]
  },
  {
   "cell_type": "code",
   "execution_count": 5,
   "id": "b2f69300",
   "metadata": {},
   "outputs": [
    {
     "data": {
      "text/html": [
       "<div>\n",
       "<style scoped>\n",
       "    .dataframe tbody tr th:only-of-type {\n",
       "        vertical-align: middle;\n",
       "    }\n",
       "\n",
       "    .dataframe tbody tr th {\n",
       "        vertical-align: top;\n",
       "    }\n",
       "\n",
       "    .dataframe thead th {\n",
       "        text-align: right;\n",
       "    }\n",
       "</style>\n",
       "<table border=\"1\" class=\"dataframe\">\n",
       "  <thead>\n",
       "    <tr style=\"text-align: right;\">\n",
       "      <th></th>\n",
       "      <th>Product Name</th>\n",
       "      <th>Categories</th>\n",
       "      <th>Date of Report</th>\n",
       "      <th>Average Position</th>\n",
       "      <th>Clicks</th>\n",
       "      <th>Leads</th>\n",
       "      <th>Money Spent ($)</th>\n",
       "      <th>Channel</th>\n",
       "      <th>Location</th>\n",
       "      <th>Prospects</th>\n",
       "      <th>Paid</th>\n",
       "      <th>Paid Date</th>\n",
       "    </tr>\n",
       "  </thead>\n",
       "  <tbody>\n",
       "    <tr>\n",
       "      <th>0</th>\n",
       "      <td>Omnify</td>\n",
       "      <td>Coaching</td>\n",
       "      <td>20-Oct-20</td>\n",
       "      <td>13.0</td>\n",
       "      <td>1.0</td>\n",
       "      <td>NaN</td>\n",
       "      <td>2.0</td>\n",
       "      <td>Capterra</td>\n",
       "      <td>UNITED STATES</td>\n",
       "      <td>NaN</td>\n",
       "      <td>NaN</td>\n",
       "      <td>NaN</td>\n",
       "    </tr>\n",
       "    <tr>\n",
       "      <th>1</th>\n",
       "      <td>Omnify</td>\n",
       "      <td>Dance Studio</td>\n",
       "      <td>20-Oct-20</td>\n",
       "      <td>20.0</td>\n",
       "      <td>1.0</td>\n",
       "      <td>NaN</td>\n",
       "      <td>2.0</td>\n",
       "      <td>Capterra</td>\n",
       "      <td>UNITED KINGDOM</td>\n",
       "      <td>NaN</td>\n",
       "      <td>NaN</td>\n",
       "      <td>NaN</td>\n",
       "    </tr>\n",
       "  </tbody>\n",
       "</table>\n",
       "</div>"
      ],
      "text/plain": [
       "  Product Name    Categories Date of Report  Average Position  Clicks  Leads  \\\n",
       "0       Omnify      Coaching      20-Oct-20              13.0     1.0    NaN   \n",
       "1       Omnify  Dance Studio      20-Oct-20              20.0     1.0    NaN   \n",
       "\n",
       "   Money Spent ($)   Channel        Location  Prospects Paid Paid Date  \n",
       "0              2.0  Capterra   UNITED STATES        NaN  NaN       NaN  \n",
       "1              2.0  Capterra  UNITED KINGDOM        NaN  NaN       NaN  "
      ]
     },
     "execution_count": 5,
     "metadata": {},
     "output_type": "execute_result"
    }
   ],
   "source": [
    "listing_site.head(2)"
   ]
  },
  {
   "cell_type": "code",
   "execution_count": 6,
   "id": "abbd4ec3",
   "metadata": {},
   "outputs": [
    {
     "data": {
      "text/plain": [
       "Index(['Week', 'Campaign', 'Ad group', 'Keyword type', 'Search Keyword',\n",
       "       'Currency', 'Clicks', 'Impressions', 'Cost ($)', 'Leads', 'Prospects',\n",
       "       'Payment ($)', 'Payment Date', 'Country'],\n",
       "      dtype='object')"
      ]
     },
     "execution_count": 6,
     "metadata": {},
     "output_type": "execute_result"
    }
   ],
   "source": [
    "google_ads.columns"
   ]
  },
  {
   "cell_type": "code",
   "execution_count": 7,
   "id": "366a4a8e",
   "metadata": {},
   "outputs": [
    {
     "data": {
      "text/plain": [
       "Index(['Product Name', 'Categories', 'Date of Report', 'Average Position',\n",
       "       'Clicks', 'Leads', 'Money Spent ($)', 'Channel', 'Location',\n",
       "       'Prospects', 'Paid', 'Paid Date'],\n",
       "      dtype='object')"
      ]
     },
     "execution_count": 7,
     "metadata": {},
     "output_type": "execute_result"
    }
   ],
   "source": [
    "listing_site.columns"
   ]
  },
  {
   "cell_type": "markdown",
   "id": "76c69761",
   "metadata": {},
   "source": [
    "## Preprocess"
   ]
  },
  {
   "cell_type": "code",
   "execution_count": null,
   "id": "d12c99a9",
   "metadata": {},
   "outputs": [],
   "source": []
  },
  {
   "cell_type": "code",
   "execution_count": null,
   "id": "7f34f092",
   "metadata": {},
   "outputs": [],
   "source": []
  },
  {
   "cell_type": "code",
   "execution_count": 8,
   "id": "760bab24",
   "metadata": {},
   "outputs": [
    {
     "data": {
      "text/plain": [
       "Week               15\n",
       "Campaign           15\n",
       "Ad group           27\n",
       "Keyword type        3\n",
       "Search Keyword     21\n",
       "Currency            1\n",
       "Clicks             13\n",
       "Impressions        59\n",
       "Cost ($)          155\n",
       "Leads               2\n",
       "Prospects           4\n",
       "Payment ($)         4\n",
       "Payment Date        8\n",
       "Country             1\n",
       "dtype: int64"
      ]
     },
     "execution_count": 8,
     "metadata": {},
     "output_type": "execute_result"
    }
   ],
   "source": [
    "google_ads.nunique()"
   ]
  },
  {
   "cell_type": "code",
   "execution_count": 9,
   "id": "dafd6438",
   "metadata": {},
   "outputs": [
    {
     "data": {
      "text/plain": [
       "Product Name          1\n",
       "Categories           19\n",
       "Date of Report      193\n",
       "Average Position    135\n",
       "Clicks               21\n",
       "Leads                 5\n",
       "Money Spent ($)     159\n",
       "Channel               3\n",
       "Location             14\n",
       "Prospects             2\n",
       "Paid                 11\n",
       "Paid Date            13\n",
       "dtype: int64"
      ]
     },
     "execution_count": 9,
     "metadata": {},
     "output_type": "execute_result"
    }
   ],
   "source": [
    "listing_site.nunique()"
   ]
  },
  {
   "cell_type": "code",
   "execution_count": 10,
   "id": "e2c8f9e2",
   "metadata": {},
   "outputs": [
    {
     "data": {
      "text/plain": [
       "array(['25-Jan-21', '01-Feb-21', '08-Feb-21', '15-Feb-21', '22-Feb-21',\n",
       "       '01-Mar-21', '08-Mar-21', '15-Mar-21', '22-Mar-21', '29-Mar-21',\n",
       "       '05-Apr-21', '12-Apr-21', '19-Apr-21', '26-Apr-21', '03-May-21'],\n",
       "      dtype=object)"
      ]
     },
     "execution_count": 10,
     "metadata": {},
     "output_type": "execute_result"
    }
   ],
   "source": [
    "google_ads['Week'].unique()"
   ]
  },
  {
   "cell_type": "code",
   "execution_count": 11,
   "id": "953d3aeb",
   "metadata": {
    "scrolled": true
   },
   "outputs": [
    {
     "data": {
      "text/plain": [
       "25-Jan-21    27\n",
       "01-Feb-21    30\n",
       "08-Feb-21    25\n",
       "15-Feb-21    33\n",
       "22-Feb-21    33\n",
       "01-Mar-21    27\n",
       "08-Mar-21    29\n",
       "15-Mar-21    31\n",
       "22-Mar-21    34\n",
       "29-Mar-21    23\n",
       "05-Apr-21    22\n",
       "12-Apr-21    20\n",
       "19-Apr-21    26\n",
       "26-Apr-21    29\n",
       "03-May-21    29\n",
       "Name: Week, dtype: int64"
      ]
     },
     "execution_count": 11,
     "metadata": {},
     "output_type": "execute_result"
    }
   ],
   "source": [
    "google_ads['Week'].value_counts(sort=False)"
   ]
  },
  {
   "cell_type": "code",
   "execution_count": 12,
   "id": "a8b6bdc8",
   "metadata": {},
   "outputs": [
    {
     "data": {
      "text/plain": [
       "array(['pool reservation system', 'pool booking app',\n",
       "       'yoga studio booking software', 'pool scheduling software',\n",
       "       'pool reservation software', 'reservation management system',\n",
       "       'booking management software', 'swimming pool reservation system',\n",
       "       'swimming pool booking system', 'yoga studio management software',\n",
       "       'pilates studio management software',\n",
       "       'yoga studio scheduling software', '=+pool +reservation software',\n",
       "       '#NAME?', 'yoga studio software', 'pilates booking system',\n",
       "       'pilates studio software', 'pilates management software',\n",
       "       'pilates studio booking software', 'yoga studio app',\n",
       "       'pilates studio software manager'], dtype=object)"
      ]
     },
     "execution_count": 12,
     "metadata": {},
     "output_type": "execute_result"
    }
   ],
   "source": [
    "google_ads['Search Keyword'].unique()"
   ]
  },
  {
   "cell_type": "code",
   "execution_count": 13,
   "id": "dda8ba67",
   "metadata": {},
   "outputs": [
    {
     "data": {
      "text/plain": [
       "array(['Exact', 'Broad', 'Phrase'], dtype=object)"
      ]
     },
     "execution_count": 13,
     "metadata": {},
     "output_type": "execute_result"
    }
   ],
   "source": [
    "google_ads['Keyword type'].unique()"
   ]
  },
  {
   "cell_type": "code",
   "execution_count": 14,
   "id": "bd49bfdf",
   "metadata": {},
   "outputs": [
    {
     "data": {
      "text/plain": [
       "array(['Capterra', 'GetApp', 'Software Advice'], dtype=object)"
      ]
     },
     "execution_count": 14,
     "metadata": {},
     "output_type": "execute_result"
    }
   ],
   "source": [
    "listing_site['Channel'].unique()"
   ]
  },
  {
   "cell_type": "code",
   "execution_count": 15,
   "id": "524355ca",
   "metadata": {},
   "outputs": [
    {
     "data": {
      "text/plain": [
       "array(['Coaching', 'Dance Studio', 'Personal Trainer', 'Scheduling',\n",
       "       'Class Registration', 'Fitness', 'Swim School', 'Yoga Studio',\n",
       "       'Camp Management', 'Music School', 'Reservations',\n",
       "       'Club Management', 'Gymnastics', 'Venue Management',\n",
       "       'Membership Management', 'Parks and Recreation', 'Spa',\n",
       "       'Martial Arts', 'Pilates Studio'], dtype=object)"
      ]
     },
     "execution_count": 15,
     "metadata": {},
     "output_type": "execute_result"
    }
   ],
   "source": [
    "listing_site['Categories'].unique()"
   ]
  },
  {
   "cell_type": "code",
   "execution_count": 16,
   "id": "023038f7",
   "metadata": {
    "scrolled": false
   },
   "outputs": [
    {
     "name": "stdout",
     "output_type": "stream",
     "text": [
      "<class 'pandas.core.frame.DataFrame'>\n",
      "RangeIndex: 418 entries, 0 to 417\n",
      "Data columns (total 14 columns):\n",
      " #   Column          Non-Null Count  Dtype  \n",
      "---  ------          --------------  -----  \n",
      " 0   Week            418 non-null    object \n",
      " 1   Campaign        418 non-null    object \n",
      " 2   Ad group        418 non-null    object \n",
      " 3   Keyword type    418 non-null    object \n",
      " 4   Search Keyword  418 non-null    object \n",
      " 5   Currency        418 non-null    object \n",
      " 6   Clicks          418 non-null    int64  \n",
      " 7   Impressions     418 non-null    int64  \n",
      " 8   Cost ($)        418 non-null    float64\n",
      " 9   Leads           418 non-null    int64  \n",
      " 10  Prospects       418 non-null    int64  \n",
      " 11  Payment ($)     8 non-null      object \n",
      " 12  Payment Date    8 non-null      object \n",
      " 13  Country         418 non-null    object \n",
      "dtypes: float64(1), int64(4), object(9)\n",
      "memory usage: 45.8+ KB\n"
     ]
    }
   ],
   "source": [
    "google_ads.info()"
   ]
  },
  {
   "cell_type": "code",
   "execution_count": 17,
   "id": "e58402e1",
   "metadata": {},
   "outputs": [
    {
     "name": "stdout",
     "output_type": "stream",
     "text": [
      "<class 'pandas.core.frame.DataFrame'>\n",
      "RangeIndex: 2091 entries, 0 to 2090\n",
      "Data columns (total 12 columns):\n",
      " #   Column            Non-Null Count  Dtype  \n",
      "---  ------            --------------  -----  \n",
      " 0   Product Name      2091 non-null   object \n",
      " 1   Categories        2091 non-null   object \n",
      " 2   Date of Report    2091 non-null   object \n",
      " 3   Average Position  2090 non-null   float64\n",
      " 4   Clicks            2090 non-null   float64\n",
      " 5   Leads             163 non-null    float64\n",
      " 6   Money Spent ($)   2089 non-null   float64\n",
      " 7   Channel           2091 non-null   object \n",
      " 8   Location          2091 non-null   object \n",
      " 9   Prospects         66 non-null     float64\n",
      " 10  Paid              14 non-null     object \n",
      " 11  Paid Date         13 non-null     object \n",
      "dtypes: float64(5), object(7)\n",
      "memory usage: 196.2+ KB\n"
     ]
    }
   ],
   "source": [
    "listing_site.info()"
   ]
  },
  {
   "cell_type": "markdown",
   "id": "648ead81",
   "metadata": {},
   "source": [
    "### Google Ads"
   ]
  },
  {
   "cell_type": "code",
   "execution_count": 18,
   "id": "13c1ed09",
   "metadata": {},
   "outputs": [
    {
     "data": {
      "text/plain": [
       "2788.6800000000007"
      ]
     },
     "execution_count": 18,
     "metadata": {},
     "output_type": "execute_result"
    }
   ],
   "source": [
    "sum(google_ads['Cost ($)'])"
   ]
  },
  {
   "cell_type": "code",
   "execution_count": 19,
   "id": "1f9fda19",
   "metadata": {},
   "outputs": [
    {
     "data": {
      "text/plain": [
       "array(['$980', nan, '$1,188', '$1,788', '$2,388'], dtype=object)"
      ]
     },
     "execution_count": 19,
     "metadata": {},
     "output_type": "execute_result"
    }
   ],
   "source": [
    "google_ads['Payment ($)'].unique()"
   ]
  },
  {
   "cell_type": "code",
   "execution_count": 20,
   "id": "0e7be90b",
   "metadata": {},
   "outputs": [],
   "source": [
    "google_ads['Payment ($)'] = google_ads['Payment ($)'].replace('[\\$,]', '', regex=True).astype(float)"
   ]
  },
  {
   "cell_type": "code",
   "execution_count": 21,
   "id": "59fa51eb",
   "metadata": {},
   "outputs": [
    {
     "data": {
      "text/plain": [
       "array([ 980.,   nan, 1188., 1788., 2388.])"
      ]
     },
     "execution_count": 21,
     "metadata": {},
     "output_type": "execute_result"
    }
   ],
   "source": [
    "google_ads['Payment ($)'].unique()"
   ]
  },
  {
   "cell_type": "code",
   "execution_count": 22,
   "id": "1cfb9ddf",
   "metadata": {},
   "outputs": [],
   "source": [
    "google_ads['Payment ($)'].fillna(0 , inplace = True)"
   ]
  },
  {
   "cell_type": "code",
   "execution_count": 23,
   "id": "18871432",
   "metadata": {},
   "outputs": [
    {
     "data": {
      "text/plain": [
       "array([ 980.,    0., 1188., 1788., 2388.])"
      ]
     },
     "execution_count": 23,
     "metadata": {},
     "output_type": "execute_result"
    }
   ],
   "source": [
    "google_ads['Payment ($)'].unique()"
   ]
  },
  {
   "cell_type": "code",
   "execution_count": 24,
   "id": "7a37b9a5",
   "metadata": {},
   "outputs": [
    {
     "data": {
      "text/plain": [
       "11880.0"
      ]
     },
     "execution_count": 24,
     "metadata": {},
     "output_type": "execute_result"
    }
   ],
   "source": [
    "sum(google_ads['Payment ($)'])"
   ]
  },
  {
   "cell_type": "code",
   "execution_count": 25,
   "id": "693b4b03",
   "metadata": {},
   "outputs": [],
   "source": [
    "google_ads['Week'] = pd.to_datetime(google_ads['Week'])"
   ]
  },
  {
   "cell_type": "code",
   "execution_count": 26,
   "id": "f16caf12",
   "metadata": {},
   "outputs": [],
   "source": [
    "google_ads['Payment Date'] = pd.to_datetime(google_ads['Payment Date'])"
   ]
  },
  {
   "cell_type": "code",
   "execution_count": 27,
   "id": "9cc49c76",
   "metadata": {},
   "outputs": [],
   "source": [
    "google_ads.to_csv('google_ads_cleaned.csv',index = False)"
   ]
  },
  {
   "cell_type": "code",
   "execution_count": null,
   "id": "8540edeb",
   "metadata": {},
   "outputs": [],
   "source": []
  },
  {
   "cell_type": "markdown",
   "id": "496983a8",
   "metadata": {},
   "source": [
    "### Listing Site"
   ]
  },
  {
   "cell_type": "code",
   "execution_count": 28,
   "id": "484527ce",
   "metadata": {},
   "outputs": [],
   "source": [
    "listing_site['Money Spent ($)'].fillna(0,inplace=True)"
   ]
  },
  {
   "cell_type": "code",
   "execution_count": 29,
   "id": "ef6d952a",
   "metadata": {},
   "outputs": [
    {
     "data": {
      "text/plain": [
       "25223.25000000001"
      ]
     },
     "execution_count": 29,
     "metadata": {},
     "output_type": "execute_result"
    }
   ],
   "source": [
    "sum(listing_site['Money Spent ($)'])"
   ]
  },
  {
   "cell_type": "code",
   "execution_count": 30,
   "id": "056cac6b",
   "metadata": {},
   "outputs": [],
   "source": [
    "listing_site['Paid'] = listing_site['Paid'].replace('[\\$,]', '', regex=True).astype(float)"
   ]
  },
  {
   "cell_type": "code",
   "execution_count": 31,
   "id": "99272455",
   "metadata": {},
   "outputs": [],
   "source": [
    "listing_site['Paid'].fillna(0,inplace=True)"
   ]
  },
  {
   "cell_type": "code",
   "execution_count": 32,
   "id": "a1d16fa9",
   "metadata": {},
   "outputs": [
    {
     "data": {
      "text/plain": [
       "23460.0"
      ]
     },
     "execution_count": 32,
     "metadata": {},
     "output_type": "execute_result"
    }
   ],
   "source": [
    "sum(listing_site['Paid'])"
   ]
  },
  {
   "cell_type": "code",
   "execution_count": 33,
   "id": "798f861b",
   "metadata": {},
   "outputs": [
    {
     "data": {
      "text/plain": [
       "0   2020-10-20\n",
       "Name: Date of Report, dtype: datetime64[ns]"
      ]
     },
     "execution_count": 33,
     "metadata": {},
     "output_type": "execute_result"
    }
   ],
   "source": [
    "listing_site['Date of Report'] = pd.to_datetime(listing_site['Date of Report'])\n",
    "listing_site['Date of Report'].head(1)"
   ]
  },
  {
   "cell_type": "code",
   "execution_count": 34,
   "id": "823969e4",
   "metadata": {},
   "outputs": [],
   "source": [
    "listing_site['Paid Date'] = pd.to_datetime(listing_site['Paid Date'])"
   ]
  },
  {
   "cell_type": "code",
   "execution_count": 35,
   "id": "68c604e3",
   "metadata": {},
   "outputs": [],
   "source": [
    "listing_site['Week'] = listing_site['Date of Report']"
   ]
  },
  {
   "cell_type": "code",
   "execution_count": 36,
   "id": "4464cb13",
   "metadata": {},
   "outputs": [],
   "source": [
    "# listing_site.head(1)"
   ]
  },
  {
   "cell_type": "code",
   "execution_count": 37,
   "id": "a7b4434d",
   "metadata": {},
   "outputs": [],
   "source": [
    "\n",
    "def first_day_of_week(date):\n",
    "    \n",
    "    date = date.strftime(\"%Y-%m-%d\")\n",
    "    year, month, day = map(int, date.split('-'))\n",
    "    given_date = datetime(year, month, day)\n",
    "\n",
    "    days_since_monday = (given_date.weekday()) % 7\n",
    "\n",
    "    first_day_of_week = given_date - timedelta(days=days_since_monday)\n",
    "\n",
    "    return first_day_of_week"
   ]
  },
  {
   "cell_type": "code",
   "execution_count": 38,
   "id": "04dc9bd3",
   "metadata": {
    "scrolled": true
   },
   "outputs": [],
   "source": [
    "for i in range(len(listing_site)):\n",
    "    listing_site['Week'][i] = first_day_of_week(listing_site['Week'][i])"
   ]
  },
  {
   "cell_type": "code",
   "execution_count": 39,
   "id": "66c3a799",
   "metadata": {},
   "outputs": [
    {
     "data": {
      "text/plain": [
       "2020-10-19     39\n",
       "2020-10-26     84\n",
       "2020-11-02     73\n",
       "2020-11-09     85\n",
       "2020-11-16    100\n",
       "2020-11-23     48\n",
       "2020-11-30     68\n",
       "2020-12-07     96\n",
       "2020-12-14     79\n",
       "2020-12-21     79\n",
       "2020-12-28     91\n",
       "2021-01-04     78\n",
       "2021-01-11     90\n",
       "2021-01-18     80\n",
       "2021-01-25     61\n",
       "2021-02-01     95\n",
       "2021-02-08     84\n",
       "2021-02-15     78\n",
       "2021-02-22     69\n",
       "2021-03-01     71\n",
       "2021-03-08     73\n",
       "2021-03-15     72\n",
       "2021-03-22     68\n",
       "2021-03-29     59\n",
       "2021-04-05     78\n",
       "2021-04-12     81\n",
       "2021-04-19     73\n",
       "2021-04-26     39\n",
       "Name: Week, dtype: int64"
      ]
     },
     "execution_count": 39,
     "metadata": {},
     "output_type": "execute_result"
    }
   ],
   "source": [
    "listing_site['Week'].value_counts(sort = False)"
   ]
  },
  {
   "cell_type": "code",
   "execution_count": 40,
   "id": "93081983",
   "metadata": {
    "scrolled": false
   },
   "outputs": [
    {
     "name": "stdout",
     "output_type": "stream",
     "text": [
      "<class 'pandas.core.frame.DataFrame'>\n",
      "RangeIndex: 2091 entries, 0 to 2090\n",
      "Data columns (total 13 columns):\n",
      " #   Column            Non-Null Count  Dtype         \n",
      "---  ------            --------------  -----         \n",
      " 0   Product Name      2091 non-null   object        \n",
      " 1   Categories        2091 non-null   object        \n",
      " 2   Date of Report    2091 non-null   datetime64[ns]\n",
      " 3   Average Position  2090 non-null   float64       \n",
      " 4   Clicks            2090 non-null   float64       \n",
      " 5   Leads             163 non-null    float64       \n",
      " 6   Money Spent ($)   2091 non-null   float64       \n",
      " 7   Channel           2091 non-null   object        \n",
      " 8   Location          2091 non-null   object        \n",
      " 9   Prospects         66 non-null     float64       \n",
      " 10  Paid              2091 non-null   float64       \n",
      " 11  Paid Date         13 non-null     datetime64[ns]\n",
      " 12  Week              2091 non-null   datetime64[ns]\n",
      "dtypes: datetime64[ns](3), float64(6), object(4)\n",
      "memory usage: 212.5+ KB\n"
     ]
    }
   ],
   "source": [
    "listing_site.info()"
   ]
  },
  {
   "cell_type": "code",
   "execution_count": 41,
   "id": "ec427465",
   "metadata": {},
   "outputs": [],
   "source": [
    "listing_site.fillna(0,inplace =True)"
   ]
  },
  {
   "cell_type": "code",
   "execution_count": 42,
   "id": "cdca2047",
   "metadata": {},
   "outputs": [
    {
     "data": {
      "text/plain": [
       "3477.0"
      ]
     },
     "execution_count": 42,
     "metadata": {},
     "output_type": "execute_result"
    }
   ],
   "source": [
    "sum(listing_site['Clicks'])"
   ]
  },
  {
   "cell_type": "code",
   "execution_count": 43,
   "id": "4b0ec305",
   "metadata": {},
   "outputs": [
    {
     "data": {
      "text/plain": [
       "0       13.00\n",
       "1       20.00\n",
       "2        6.00\n",
       "3       59.00\n",
       "4        6.00\n",
       "        ...  \n",
       "2086    10.00\n",
       "2087     1.00\n",
       "2088    14.67\n",
       "2089     8.00\n",
       "2090     8.00\n",
       "Name: Average Position, Length: 2091, dtype: float64"
      ]
     },
     "execution_count": 43,
     "metadata": {},
     "output_type": "execute_result"
    }
   ],
   "source": [
    "listing_site['Average Position']"
   ]
  },
  {
   "cell_type": "code",
   "execution_count": 44,
   "id": "645dc8a7",
   "metadata": {},
   "outputs": [],
   "source": [
    "listing_site.to_csv('listing_site_cleaned.csv',index = False)"
   ]
  },
  {
   "cell_type": "markdown",
   "id": "06af3c04",
   "metadata": {},
   "source": [
    "## Most Profitable channel"
   ]
  },
  {
   "cell_type": "code",
   "execution_count": 45,
   "id": "a34a1184",
   "metadata": {},
   "outputs": [
    {
     "data": {
      "text/html": [
       "<div>\n",
       "<style scoped>\n",
       "    .dataframe tbody tr th:only-of-type {\n",
       "        vertical-align: middle;\n",
       "    }\n",
       "\n",
       "    .dataframe tbody tr th {\n",
       "        vertical-align: top;\n",
       "    }\n",
       "\n",
       "    .dataframe thead th {\n",
       "        text-align: right;\n",
       "    }\n",
       "</style>\n",
       "<table border=\"1\" class=\"dataframe\">\n",
       "  <thead>\n",
       "    <tr style=\"text-align: right;\">\n",
       "      <th></th>\n",
       "      <th>Product Name</th>\n",
       "      <th>Categories</th>\n",
       "      <th>Date of Report</th>\n",
       "      <th>Average Position</th>\n",
       "      <th>Clicks</th>\n",
       "      <th>Leads</th>\n",
       "      <th>Money Spent ($)</th>\n",
       "      <th>Channel</th>\n",
       "      <th>Location</th>\n",
       "      <th>Prospects</th>\n",
       "      <th>Paid</th>\n",
       "      <th>Paid Date</th>\n",
       "      <th>Week</th>\n",
       "    </tr>\n",
       "  </thead>\n",
       "  <tbody>\n",
       "    <tr>\n",
       "      <th>0</th>\n",
       "      <td>Omnify</td>\n",
       "      <td>Coaching</td>\n",
       "      <td>2020-10-20</td>\n",
       "      <td>13.0</td>\n",
       "      <td>1.0</td>\n",
       "      <td>0.0</td>\n",
       "      <td>2.0</td>\n",
       "      <td>Capterra</td>\n",
       "      <td>UNITED STATES</td>\n",
       "      <td>0.0</td>\n",
       "      <td>0.0</td>\n",
       "      <td>0</td>\n",
       "      <td>2020-10-19</td>\n",
       "    </tr>\n",
       "    <tr>\n",
       "      <th>1</th>\n",
       "      <td>Omnify</td>\n",
       "      <td>Dance Studio</td>\n",
       "      <td>2020-10-20</td>\n",
       "      <td>20.0</td>\n",
       "      <td>1.0</td>\n",
       "      <td>0.0</td>\n",
       "      <td>2.0</td>\n",
       "      <td>Capterra</td>\n",
       "      <td>UNITED KINGDOM</td>\n",
       "      <td>0.0</td>\n",
       "      <td>0.0</td>\n",
       "      <td>0</td>\n",
       "      <td>2020-10-19</td>\n",
       "    </tr>\n",
       "    <tr>\n",
       "      <th>2</th>\n",
       "      <td>Omnify</td>\n",
       "      <td>Personal Trainer</td>\n",
       "      <td>2020-10-20</td>\n",
       "      <td>6.0</td>\n",
       "      <td>1.0</td>\n",
       "      <td>0.0</td>\n",
       "      <td>2.0</td>\n",
       "      <td>Capterra</td>\n",
       "      <td>SINGAPORE</td>\n",
       "      <td>0.0</td>\n",
       "      <td>0.0</td>\n",
       "      <td>0</td>\n",
       "      <td>2020-10-19</td>\n",
       "    </tr>\n",
       "    <tr>\n",
       "      <th>3</th>\n",
       "      <td>Omnify</td>\n",
       "      <td>Scheduling</td>\n",
       "      <td>2020-10-20</td>\n",
       "      <td>59.0</td>\n",
       "      <td>1.0</td>\n",
       "      <td>0.0</td>\n",
       "      <td>2.0</td>\n",
       "      <td>GetApp</td>\n",
       "      <td>UNITED STATES</td>\n",
       "      <td>0.0</td>\n",
       "      <td>0.0</td>\n",
       "      <td>0</td>\n",
       "      <td>2020-10-19</td>\n",
       "    </tr>\n",
       "    <tr>\n",
       "      <th>4</th>\n",
       "      <td>Omnify</td>\n",
       "      <td>Class Registration</td>\n",
       "      <td>2020-10-21</td>\n",
       "      <td>6.0</td>\n",
       "      <td>1.0</td>\n",
       "      <td>0.0</td>\n",
       "      <td>2.0</td>\n",
       "      <td>Capterra</td>\n",
       "      <td>AUSTRALIA</td>\n",
       "      <td>0.0</td>\n",
       "      <td>0.0</td>\n",
       "      <td>0</td>\n",
       "      <td>2020-10-19</td>\n",
       "    </tr>\n",
       "  </tbody>\n",
       "</table>\n",
       "</div>"
      ],
      "text/plain": [
       "  Product Name          Categories Date of Report  Average Position  Clicks  \\\n",
       "0       Omnify            Coaching     2020-10-20              13.0     1.0   \n",
       "1       Omnify        Dance Studio     2020-10-20              20.0     1.0   \n",
       "2       Omnify    Personal Trainer     2020-10-20               6.0     1.0   \n",
       "3       Omnify          Scheduling     2020-10-20              59.0     1.0   \n",
       "4       Omnify  Class Registration     2020-10-21               6.0     1.0   \n",
       "\n",
       "   Leads  Money Spent ($)   Channel        Location  Prospects  Paid  \\\n",
       "0    0.0              2.0  Capterra   UNITED STATES        0.0   0.0   \n",
       "1    0.0              2.0  Capterra  UNITED KINGDOM        0.0   0.0   \n",
       "2    0.0              2.0  Capterra       SINGAPORE        0.0   0.0   \n",
       "3    0.0              2.0    GetApp   UNITED STATES        0.0   0.0   \n",
       "4    0.0              2.0  Capterra       AUSTRALIA        0.0   0.0   \n",
       "\n",
       "  Paid Date       Week  \n",
       "0         0 2020-10-19  \n",
       "1         0 2020-10-19  \n",
       "2         0 2020-10-19  \n",
       "3         0 2020-10-19  \n",
       "4         0 2020-10-19  "
      ]
     },
     "execution_count": 45,
     "metadata": {},
     "output_type": "execute_result"
    }
   ],
   "source": [
    "listing_site.head()"
   ]
  },
  {
   "cell_type": "code",
   "execution_count": 46,
   "id": "3eefc072",
   "metadata": {},
   "outputs": [],
   "source": [
    "finance_channel = listing_site[['Channel','Money Spent ($)','Paid']]"
   ]
  },
  {
   "cell_type": "code",
   "execution_count": 47,
   "id": "7368a7b1",
   "metadata": {},
   "outputs": [],
   "source": [
    "finance_channel['Profit'] = finance_channel['Paid']-finance_channel['Money Spent ($)']"
   ]
  },
  {
   "cell_type": "code",
   "execution_count": 48,
   "id": "baa3f0ee",
   "metadata": {},
   "outputs": [
    {
     "data": {
      "text/html": [
       "<div>\n",
       "<style scoped>\n",
       "    .dataframe tbody tr th:only-of-type {\n",
       "        vertical-align: middle;\n",
       "    }\n",
       "\n",
       "    .dataframe tbody tr th {\n",
       "        vertical-align: top;\n",
       "    }\n",
       "\n",
       "    .dataframe thead th {\n",
       "        text-align: right;\n",
       "    }\n",
       "</style>\n",
       "<table border=\"1\" class=\"dataframe\">\n",
       "  <thead>\n",
       "    <tr style=\"text-align: right;\">\n",
       "      <th></th>\n",
       "      <th>Channel</th>\n",
       "      <th>Money Spent ($)</th>\n",
       "      <th>Paid</th>\n",
       "      <th>Profit</th>\n",
       "    </tr>\n",
       "  </thead>\n",
       "  <tbody>\n",
       "    <tr>\n",
       "      <th>0</th>\n",
       "      <td>Capterra</td>\n",
       "      <td>2.0</td>\n",
       "      <td>0.0</td>\n",
       "      <td>-2.0</td>\n",
       "    </tr>\n",
       "    <tr>\n",
       "      <th>1</th>\n",
       "      <td>Capterra</td>\n",
       "      <td>2.0</td>\n",
       "      <td>0.0</td>\n",
       "      <td>-2.0</td>\n",
       "    </tr>\n",
       "    <tr>\n",
       "      <th>2</th>\n",
       "      <td>Capterra</td>\n",
       "      <td>2.0</td>\n",
       "      <td>0.0</td>\n",
       "      <td>-2.0</td>\n",
       "    </tr>\n",
       "    <tr>\n",
       "      <th>3</th>\n",
       "      <td>GetApp</td>\n",
       "      <td>2.0</td>\n",
       "      <td>0.0</td>\n",
       "      <td>-2.0</td>\n",
       "    </tr>\n",
       "    <tr>\n",
       "      <th>4</th>\n",
       "      <td>Capterra</td>\n",
       "      <td>2.0</td>\n",
       "      <td>0.0</td>\n",
       "      <td>-2.0</td>\n",
       "    </tr>\n",
       "  </tbody>\n",
       "</table>\n",
       "</div>"
      ],
      "text/plain": [
       "    Channel  Money Spent ($)  Paid  Profit\n",
       "0  Capterra              2.0   0.0    -2.0\n",
       "1  Capterra              2.0   0.0    -2.0\n",
       "2  Capterra              2.0   0.0    -2.0\n",
       "3    GetApp              2.0   0.0    -2.0\n",
       "4  Capterra              2.0   0.0    -2.0"
      ]
     },
     "execution_count": 48,
     "metadata": {},
     "output_type": "execute_result"
    }
   ],
   "source": [
    "finance_channel.head()"
   ]
  },
  {
   "cell_type": "code",
   "execution_count": 49,
   "id": "682d5e20",
   "metadata": {},
   "outputs": [
    {
     "data": {
      "text/plain": [
       "array(['Capterra', 'GetApp', 'Software Advice'], dtype=object)"
      ]
     },
     "execution_count": 49,
     "metadata": {},
     "output_type": "execute_result"
    }
   ],
   "source": [
    "finance_channel['Channel'].unique()"
   ]
  },
  {
   "cell_type": "code",
   "execution_count": 50,
   "id": "cd0437bb",
   "metadata": {},
   "outputs": [
    {
     "data": {
      "text/plain": [
       "Capterra           1211\n",
       "GetApp              825\n",
       "Software Advice      55\n",
       "Name: Channel, dtype: int64"
      ]
     },
     "execution_count": 50,
     "metadata": {},
     "output_type": "execute_result"
    }
   ],
   "source": [
    "finance_channel['Channel'].value_counts()"
   ]
  },
  {
   "cell_type": "code",
   "execution_count": 51,
   "id": "7e33bccf",
   "metadata": {},
   "outputs": [
    {
     "data": {
      "text/plain": [
       "416.15000000000146"
      ]
     },
     "execution_count": 51,
     "metadata": {},
     "output_type": "execute_result"
    }
   ],
   "source": [
    "sum(finance_channel[finance_channel['Channel']=='Capterra']['Profit'])"
   ]
  },
  {
   "cell_type": "code",
   "execution_count": 52,
   "id": "434b4886",
   "metadata": {},
   "outputs": [
    {
     "data": {
      "text/plain": [
       "-3661.900000000002"
      ]
     },
     "execution_count": 52,
     "metadata": {},
     "output_type": "execute_result"
    }
   ],
   "source": [
    "sum(finance_channel[finance_channel['Channel']=='GetApp']['Profit'])"
   ]
  },
  {
   "cell_type": "code",
   "execution_count": 53,
   "id": "43652b59",
   "metadata": {},
   "outputs": [
    {
     "data": {
      "text/plain": [
       "1482.5"
      ]
     },
     "execution_count": 53,
     "metadata": {},
     "output_type": "execute_result"
    }
   ],
   "source": [
    "sum(finance_channel[finance_channel['Channel']=='Software Advice']['Profit'])"
   ]
  },
  {
   "cell_type": "markdown",
   "id": "76ac92b5",
   "metadata": {},
   "source": [
    "#### \"Software Advice\" Channel is the most Profitable Channel"
   ]
  },
  {
   "cell_type": "code",
   "execution_count": null,
   "id": "18d74199",
   "metadata": {},
   "outputs": [],
   "source": []
  },
  {
   "cell_type": "markdown",
   "id": "0b81a50c",
   "metadata": {},
   "source": [
    "## Which category/keyword is the most profitable"
   ]
  },
  {
   "cell_type": "markdown",
   "id": "f4bffbee",
   "metadata": {},
   "source": [
    "### Google Ads"
   ]
  },
  {
   "cell_type": "code",
   "execution_count": 54,
   "id": "98f17fae",
   "metadata": {},
   "outputs": [],
   "source": [
    "finance_keyword = google_ads[['Keyword type','Cost ($)','Payment ($)']]"
   ]
  },
  {
   "cell_type": "code",
   "execution_count": 55,
   "id": "89cf9f25",
   "metadata": {},
   "outputs": [],
   "source": [
    "finance_keyword['Profit']=finance_keyword['Payment ($)']-finance_keyword['Cost ($)']"
   ]
  },
  {
   "cell_type": "code",
   "execution_count": 56,
   "id": "69338ad7",
   "metadata": {},
   "outputs": [
    {
     "data": {
      "text/html": [
       "<div>\n",
       "<style scoped>\n",
       "    .dataframe tbody tr th:only-of-type {\n",
       "        vertical-align: middle;\n",
       "    }\n",
       "\n",
       "    .dataframe tbody tr th {\n",
       "        vertical-align: top;\n",
       "    }\n",
       "\n",
       "    .dataframe thead th {\n",
       "        text-align: right;\n",
       "    }\n",
       "</style>\n",
       "<table border=\"1\" class=\"dataframe\">\n",
       "  <thead>\n",
       "    <tr style=\"text-align: right;\">\n",
       "      <th></th>\n",
       "      <th>Keyword type</th>\n",
       "      <th>Cost ($)</th>\n",
       "      <th>Payment ($)</th>\n",
       "      <th>Profit</th>\n",
       "    </tr>\n",
       "  </thead>\n",
       "  <tbody>\n",
       "    <tr>\n",
       "      <th>0</th>\n",
       "      <td>Exact</td>\n",
       "      <td>38.33</td>\n",
       "      <td>980.0</td>\n",
       "      <td>941.67</td>\n",
       "    </tr>\n",
       "    <tr>\n",
       "      <th>1</th>\n",
       "      <td>Exact</td>\n",
       "      <td>11.70</td>\n",
       "      <td>0.0</td>\n",
       "      <td>-11.70</td>\n",
       "    </tr>\n",
       "    <tr>\n",
       "      <th>2</th>\n",
       "      <td>Broad</td>\n",
       "      <td>45.13</td>\n",
       "      <td>1188.0</td>\n",
       "      <td>1142.87</td>\n",
       "    </tr>\n",
       "    <tr>\n",
       "      <th>3</th>\n",
       "      <td>Phrase</td>\n",
       "      <td>23.91</td>\n",
       "      <td>0.0</td>\n",
       "      <td>-23.91</td>\n",
       "    </tr>\n",
       "    <tr>\n",
       "      <th>4</th>\n",
       "      <td>Broad</td>\n",
       "      <td>4.89</td>\n",
       "      <td>0.0</td>\n",
       "      <td>-4.89</td>\n",
       "    </tr>\n",
       "  </tbody>\n",
       "</table>\n",
       "</div>"
      ],
      "text/plain": [
       "  Keyword type  Cost ($)  Payment ($)   Profit\n",
       "0        Exact     38.33        980.0   941.67\n",
       "1        Exact     11.70          0.0   -11.70\n",
       "2        Broad     45.13       1188.0  1142.87\n",
       "3       Phrase     23.91          0.0   -23.91\n",
       "4        Broad      4.89          0.0    -4.89"
      ]
     },
     "execution_count": 56,
     "metadata": {},
     "output_type": "execute_result"
    }
   ],
   "source": [
    "finance_keyword.head()"
   ]
  },
  {
   "cell_type": "code",
   "execution_count": 57,
   "id": "7e6d0006",
   "metadata": {},
   "outputs": [
    {
     "data": {
      "text/plain": [
       "array(['Exact', 'Broad', 'Phrase'], dtype=object)"
      ]
     },
     "execution_count": 57,
     "metadata": {},
     "output_type": "execute_result"
    }
   ],
   "source": [
    "finance_keyword['Keyword type'].unique()"
   ]
  },
  {
   "cell_type": "code",
   "execution_count": 58,
   "id": "ce2170b4",
   "metadata": {},
   "outputs": [
    {
     "data": {
      "text/plain": [
       "2187.67"
      ]
     },
     "execution_count": 58,
     "metadata": {},
     "output_type": "execute_result"
    }
   ],
   "source": [
    "sum(finance_keyword[finance_keyword['Keyword type']=='Exact']['Profit'])"
   ]
  },
  {
   "cell_type": "code",
   "execution_count": 59,
   "id": "5418734a",
   "metadata": {},
   "outputs": [
    {
     "data": {
      "text/plain": [
       "4271.199999999999"
      ]
     },
     "execution_count": 59,
     "metadata": {},
     "output_type": "execute_result"
    }
   ],
   "source": [
    "sum(finance_keyword[finance_keyword['Keyword type']=='Broad']['Profit'])"
   ]
  },
  {
   "cell_type": "code",
   "execution_count": 60,
   "id": "5faecfaa",
   "metadata": {},
   "outputs": [
    {
     "data": {
      "text/plain": [
       "2632.4500000000003"
      ]
     },
     "execution_count": 60,
     "metadata": {},
     "output_type": "execute_result"
    }
   ],
   "source": [
    "sum(finance_keyword[finance_keyword['Keyword type']=='Phrase']['Profit'])"
   ]
  },
  {
   "cell_type": "markdown",
   "id": "668f1e86",
   "metadata": {},
   "source": [
    "#### For Google Ads \"Broad\" keywors is the most profitable"
   ]
  },
  {
   "cell_type": "markdown",
   "id": "e217e78a",
   "metadata": {},
   "source": [
    "### Listing Site"
   ]
  },
  {
   "cell_type": "code",
   "execution_count": 61,
   "id": "8b4574d9",
   "metadata": {},
   "outputs": [],
   "source": [
    "finance_category = listing_site[['Categories','Money Spent ($)','Paid']]"
   ]
  },
  {
   "cell_type": "code",
   "execution_count": 62,
   "id": "bee54c06",
   "metadata": {},
   "outputs": [],
   "source": [
    "finance_category['Profit'] = finance_category['Paid']-finance_category['Money Spent ($)']"
   ]
  },
  {
   "cell_type": "code",
   "execution_count": 63,
   "id": "e3c8f526",
   "metadata": {},
   "outputs": [
    {
     "data": {
      "text/html": [
       "<div>\n",
       "<style scoped>\n",
       "    .dataframe tbody tr th:only-of-type {\n",
       "        vertical-align: middle;\n",
       "    }\n",
       "\n",
       "    .dataframe tbody tr th {\n",
       "        vertical-align: top;\n",
       "    }\n",
       "\n",
       "    .dataframe thead th {\n",
       "        text-align: right;\n",
       "    }\n",
       "</style>\n",
       "<table border=\"1\" class=\"dataframe\">\n",
       "  <thead>\n",
       "    <tr style=\"text-align: right;\">\n",
       "      <th></th>\n",
       "      <th>Categories</th>\n",
       "      <th>Money Spent ($)</th>\n",
       "      <th>Paid</th>\n",
       "      <th>Profit</th>\n",
       "    </tr>\n",
       "  </thead>\n",
       "  <tbody>\n",
       "    <tr>\n",
       "      <th>0</th>\n",
       "      <td>Coaching</td>\n",
       "      <td>2.0</td>\n",
       "      <td>0.0</td>\n",
       "      <td>-2.0</td>\n",
       "    </tr>\n",
       "    <tr>\n",
       "      <th>1</th>\n",
       "      <td>Dance Studio</td>\n",
       "      <td>2.0</td>\n",
       "      <td>0.0</td>\n",
       "      <td>-2.0</td>\n",
       "    </tr>\n",
       "    <tr>\n",
       "      <th>2</th>\n",
       "      <td>Personal Trainer</td>\n",
       "      <td>2.0</td>\n",
       "      <td>0.0</td>\n",
       "      <td>-2.0</td>\n",
       "    </tr>\n",
       "    <tr>\n",
       "      <th>3</th>\n",
       "      <td>Scheduling</td>\n",
       "      <td>2.0</td>\n",
       "      <td>0.0</td>\n",
       "      <td>-2.0</td>\n",
       "    </tr>\n",
       "    <tr>\n",
       "      <th>4</th>\n",
       "      <td>Class Registration</td>\n",
       "      <td>2.0</td>\n",
       "      <td>0.0</td>\n",
       "      <td>-2.0</td>\n",
       "    </tr>\n",
       "  </tbody>\n",
       "</table>\n",
       "</div>"
      ],
      "text/plain": [
       "           Categories  Money Spent ($)  Paid  Profit\n",
       "0            Coaching              2.0   0.0    -2.0\n",
       "1        Dance Studio              2.0   0.0    -2.0\n",
       "2    Personal Trainer              2.0   0.0    -2.0\n",
       "3          Scheduling              2.0   0.0    -2.0\n",
       "4  Class Registration              2.0   0.0    -2.0"
      ]
     },
     "execution_count": 63,
     "metadata": {},
     "output_type": "execute_result"
    }
   ],
   "source": [
    "finance_category.head()"
   ]
  },
  {
   "cell_type": "code",
   "execution_count": 64,
   "id": "01336b82",
   "metadata": {},
   "outputs": [
    {
     "data": {
      "text/plain": [
       "array(['Coaching', 'Dance Studio', 'Personal Trainer', 'Scheduling',\n",
       "       'Class Registration', 'Fitness', 'Swim School', 'Yoga Studio',\n",
       "       'Camp Management', 'Music School', 'Reservations',\n",
       "       'Club Management', 'Gymnastics', 'Venue Management',\n",
       "       'Membership Management', 'Parks and Recreation', 'Spa',\n",
       "       'Martial Arts', 'Pilates Studio'], dtype=object)"
      ]
     },
     "execution_count": 64,
     "metadata": {},
     "output_type": "execute_result"
    }
   ],
   "source": [
    "finance_category['Categories'].unique()"
   ]
  },
  {
   "cell_type": "code",
   "execution_count": 65,
   "id": "05d4ef5e",
   "metadata": {},
   "outputs": [],
   "source": [
    "finance_category_group = finance_category.groupby('Categories')['Profit'].sum().reset_index()"
   ]
  },
  {
   "cell_type": "code",
   "execution_count": 66,
   "id": "d9c361fe",
   "metadata": {
    "scrolled": false
   },
   "outputs": [
    {
     "data": {
      "text/html": [
       "<div>\n",
       "<style scoped>\n",
       "    .dataframe tbody tr th:only-of-type {\n",
       "        vertical-align: middle;\n",
       "    }\n",
       "\n",
       "    .dataframe tbody tr th {\n",
       "        vertical-align: top;\n",
       "    }\n",
       "\n",
       "    .dataframe thead th {\n",
       "        text-align: right;\n",
       "    }\n",
       "</style>\n",
       "<table border=\"1\" class=\"dataframe\">\n",
       "  <thead>\n",
       "    <tr style=\"text-align: right;\">\n",
       "      <th></th>\n",
       "      <th>Categories</th>\n",
       "      <th>Profit</th>\n",
       "    </tr>\n",
       "  </thead>\n",
       "  <tbody>\n",
       "    <tr>\n",
       "      <th>0</th>\n",
       "      <td>Camp Management</td>\n",
       "      <td>-48.00</td>\n",
       "    </tr>\n",
       "    <tr>\n",
       "      <th>1</th>\n",
       "      <td>Class Registration</td>\n",
       "      <td>1392.50</td>\n",
       "    </tr>\n",
       "    <tr>\n",
       "      <th>2</th>\n",
       "      <td>Club Management</td>\n",
       "      <td>-245.50</td>\n",
       "    </tr>\n",
       "    <tr>\n",
       "      <th>3</th>\n",
       "      <td>Coaching</td>\n",
       "      <td>-1003.25</td>\n",
       "    </tr>\n",
       "    <tr>\n",
       "      <th>4</th>\n",
       "      <td>Dance Studio</td>\n",
       "      <td>-202.25</td>\n",
       "    </tr>\n",
       "    <tr>\n",
       "      <th>5</th>\n",
       "      <td>Fitness</td>\n",
       "      <td>-50.50</td>\n",
       "    </tr>\n",
       "    <tr>\n",
       "      <th>6</th>\n",
       "      <td>Gymnastics</td>\n",
       "      <td>-6.00</td>\n",
       "    </tr>\n",
       "    <tr>\n",
       "      <th>7</th>\n",
       "      <td>Martial Arts</td>\n",
       "      <td>-2.00</td>\n",
       "    </tr>\n",
       "    <tr>\n",
       "      <th>8</th>\n",
       "      <td>Membership Management</td>\n",
       "      <td>-2485.85</td>\n",
       "    </tr>\n",
       "    <tr>\n",
       "      <th>9</th>\n",
       "      <td>Music School</td>\n",
       "      <td>-42.00</td>\n",
       "    </tr>\n",
       "    <tr>\n",
       "      <th>10</th>\n",
       "      <td>Parks and Recreation</td>\n",
       "      <td>3581.35</td>\n",
       "    </tr>\n",
       "    <tr>\n",
       "      <th>11</th>\n",
       "      <td>Personal Trainer</td>\n",
       "      <td>-84.00</td>\n",
       "    </tr>\n",
       "    <tr>\n",
       "      <th>12</th>\n",
       "      <td>Pilates Studio</td>\n",
       "      <td>-3.50</td>\n",
       "    </tr>\n",
       "    <tr>\n",
       "      <th>13</th>\n",
       "      <td>Reservations</td>\n",
       "      <td>-1190.75</td>\n",
       "    </tr>\n",
       "    <tr>\n",
       "      <th>14</th>\n",
       "      <td>Scheduling</td>\n",
       "      <td>-502.00</td>\n",
       "    </tr>\n",
       "    <tr>\n",
       "      <th>15</th>\n",
       "      <td>Spa</td>\n",
       "      <td>-21.75</td>\n",
       "    </tr>\n",
       "    <tr>\n",
       "      <th>16</th>\n",
       "      <td>Swim School</td>\n",
       "      <td>-403.00</td>\n",
       "    </tr>\n",
       "    <tr>\n",
       "      <th>17</th>\n",
       "      <td>Venue Management</td>\n",
       "      <td>-52.75</td>\n",
       "    </tr>\n",
       "    <tr>\n",
       "      <th>18</th>\n",
       "      <td>Yoga Studio</td>\n",
       "      <td>-394.00</td>\n",
       "    </tr>\n",
       "  </tbody>\n",
       "</table>\n",
       "</div>"
      ],
      "text/plain": [
       "               Categories   Profit\n",
       "0         Camp Management   -48.00\n",
       "1      Class Registration  1392.50\n",
       "2         Club Management  -245.50\n",
       "3                Coaching -1003.25\n",
       "4            Dance Studio  -202.25\n",
       "5                 Fitness   -50.50\n",
       "6              Gymnastics    -6.00\n",
       "7            Martial Arts    -2.00\n",
       "8   Membership Management -2485.85\n",
       "9            Music School   -42.00\n",
       "10   Parks and Recreation  3581.35\n",
       "11       Personal Trainer   -84.00\n",
       "12         Pilates Studio    -3.50\n",
       "13           Reservations -1190.75\n",
       "14             Scheduling  -502.00\n",
       "15                    Spa   -21.75\n",
       "16            Swim School  -403.00\n",
       "17       Venue Management   -52.75\n",
       "18            Yoga Studio  -394.00"
      ]
     },
     "execution_count": 66,
     "metadata": {},
     "output_type": "execute_result"
    }
   ],
   "source": [
    "finance_category_group"
   ]
  },
  {
   "cell_type": "code",
   "execution_count": 67,
   "id": "f935a49d",
   "metadata": {},
   "outputs": [
    {
     "data": {
      "text/html": [
       "<div>\n",
       "<style scoped>\n",
       "    .dataframe tbody tr th:only-of-type {\n",
       "        vertical-align: middle;\n",
       "    }\n",
       "\n",
       "    .dataframe tbody tr th {\n",
       "        vertical-align: top;\n",
       "    }\n",
       "\n",
       "    .dataframe thead th {\n",
       "        text-align: right;\n",
       "    }\n",
       "</style>\n",
       "<table border=\"1\" class=\"dataframe\">\n",
       "  <thead>\n",
       "    <tr style=\"text-align: right;\">\n",
       "      <th></th>\n",
       "      <th>Categories</th>\n",
       "      <th>Profit</th>\n",
       "    </tr>\n",
       "  </thead>\n",
       "  <tbody>\n",
       "    <tr>\n",
       "      <th>10</th>\n",
       "      <td>Parks and Recreation</td>\n",
       "      <td>3581.35</td>\n",
       "    </tr>\n",
       "  </tbody>\n",
       "</table>\n",
       "</div>"
      ],
      "text/plain": [
       "              Categories   Profit\n",
       "10  Parks and Recreation  3581.35"
      ]
     },
     "execution_count": 67,
     "metadata": {},
     "output_type": "execute_result"
    }
   ],
   "source": [
    "finance_category_group[finance_category_group['Profit']==max(finance_category_group['Profit'])]"
   ]
  },
  {
   "cell_type": "markdown",
   "id": "db2595fc",
   "metadata": {},
   "source": [
    "#### For Listing Site \"Parks and Recreation\" category is the most profitable."
   ]
  },
  {
   "cell_type": "markdown",
   "id": "38f3f5eb",
   "metadata": {},
   "source": [
    "## Analyzing data points on time series graphs"
   ]
  },
  {
   "cell_type": "markdown",
   "id": "a97def42",
   "metadata": {},
   "source": [
    "### Google Ads"
   ]
  },
  {
   "cell_type": "code",
   "execution_count": 68,
   "id": "b0547681",
   "metadata": {},
   "outputs": [
    {
     "data": {
      "text/html": [
       "<div>\n",
       "<style scoped>\n",
       "    .dataframe tbody tr th:only-of-type {\n",
       "        vertical-align: middle;\n",
       "    }\n",
       "\n",
       "    .dataframe tbody tr th {\n",
       "        vertical-align: top;\n",
       "    }\n",
       "\n",
       "    .dataframe thead th {\n",
       "        text-align: right;\n",
       "    }\n",
       "</style>\n",
       "<table border=\"1\" class=\"dataframe\">\n",
       "  <thead>\n",
       "    <tr style=\"text-align: right;\">\n",
       "      <th></th>\n",
       "      <th>Week</th>\n",
       "      <th>Campaign</th>\n",
       "      <th>Ad group</th>\n",
       "      <th>Keyword type</th>\n",
       "      <th>Search Keyword</th>\n",
       "      <th>Currency</th>\n",
       "      <th>Clicks</th>\n",
       "      <th>Impressions</th>\n",
       "      <th>Cost ($)</th>\n",
       "      <th>Leads</th>\n",
       "      <th>Prospects</th>\n",
       "      <th>Payment ($)</th>\n",
       "      <th>Payment Date</th>\n",
       "      <th>Country</th>\n",
       "    </tr>\n",
       "  </thead>\n",
       "  <tbody>\n",
       "    <tr>\n",
       "      <th>0</th>\n",
       "      <td>2021-01-25</td>\n",
       "      <td>EK_Generic_Swimming</td>\n",
       "      <td>Pool_Reservation_System_Exact</td>\n",
       "      <td>Exact</td>\n",
       "      <td>pool reservation system</td>\n",
       "      <td>USD</td>\n",
       "      <td>2</td>\n",
       "      <td>17</td>\n",
       "      <td>38.33</td>\n",
       "      <td>0</td>\n",
       "      <td>1</td>\n",
       "      <td>980.0</td>\n",
       "      <td>2021-02-03</td>\n",
       "      <td>USA</td>\n",
       "    </tr>\n",
       "  </tbody>\n",
       "</table>\n",
       "</div>"
      ],
      "text/plain": [
       "        Week             Campaign                       Ad group Keyword type  \\\n",
       "0 2021-01-25  EK_Generic_Swimming  Pool_Reservation_System_Exact        Exact   \n",
       "\n",
       "            Search Keyword Currency  Clicks  Impressions  Cost ($)  Leads  \\\n",
       "0  pool reservation system      USD       2           17     38.33      0   \n",
       "\n",
       "   Prospects  Payment ($) Payment Date Country  \n",
       "0          1        980.0   2021-02-03     USA  "
      ]
     },
     "execution_count": 68,
     "metadata": {},
     "output_type": "execute_result"
    }
   ],
   "source": [
    "google_ads.head(1)"
   ]
  },
  {
   "cell_type": "code",
   "execution_count": 69,
   "id": "a6647b39",
   "metadata": {
    "scrolled": true
   },
   "outputs": [],
   "source": [
    "# Convert week column to datetime format\n",
    "google_ads['Week'] = pd.to_datetime(google_ads['Week'])\n",
    "google_ads['Week'] = google_ads['Week'].dt.strftime('%j').astype(int)"
   ]
  },
  {
   "cell_type": "code",
   "execution_count": 70,
   "id": "8b616717",
   "metadata": {},
   "outputs": [],
   "source": [
    "# setting week colun as index for time series analysis\n",
    "# google_ads.set_index('Week', inplace=True)"
   ]
  },
  {
   "cell_type": "code",
   "execution_count": 71,
   "id": "15d22981",
   "metadata": {
    "scrolled": true
   },
   "outputs": [
    {
     "data": {
      "text/html": [
       "<div>\n",
       "<style scoped>\n",
       "    .dataframe tbody tr th:only-of-type {\n",
       "        vertical-align: middle;\n",
       "    }\n",
       "\n",
       "    .dataframe tbody tr th {\n",
       "        vertical-align: top;\n",
       "    }\n",
       "\n",
       "    .dataframe thead th {\n",
       "        text-align: right;\n",
       "    }\n",
       "</style>\n",
       "<table border=\"1\" class=\"dataframe\">\n",
       "  <thead>\n",
       "    <tr style=\"text-align: right;\">\n",
       "      <th></th>\n",
       "      <th>Week</th>\n",
       "      <th>Campaign</th>\n",
       "      <th>Ad group</th>\n",
       "      <th>Keyword type</th>\n",
       "      <th>Search Keyword</th>\n",
       "      <th>Currency</th>\n",
       "      <th>Clicks</th>\n",
       "      <th>Impressions</th>\n",
       "      <th>Cost ($)</th>\n",
       "      <th>Leads</th>\n",
       "      <th>Prospects</th>\n",
       "      <th>Payment ($)</th>\n",
       "      <th>Payment Date</th>\n",
       "      <th>Country</th>\n",
       "    </tr>\n",
       "  </thead>\n",
       "  <tbody>\n",
       "    <tr>\n",
       "      <th>0</th>\n",
       "      <td>25</td>\n",
       "      <td>EK_Generic_Swimming</td>\n",
       "      <td>Pool_Reservation_System_Exact</td>\n",
       "      <td>Exact</td>\n",
       "      <td>pool reservation system</td>\n",
       "      <td>USD</td>\n",
       "      <td>2</td>\n",
       "      <td>17</td>\n",
       "      <td>38.33</td>\n",
       "      <td>0</td>\n",
       "      <td>1</td>\n",
       "      <td>980.0</td>\n",
       "      <td>2021-02-03</td>\n",
       "      <td>USA</td>\n",
       "    </tr>\n",
       "  </tbody>\n",
       "</table>\n",
       "</div>"
      ],
      "text/plain": [
       "   Week             Campaign                       Ad group Keyword type  \\\n",
       "0    25  EK_Generic_Swimming  Pool_Reservation_System_Exact        Exact   \n",
       "\n",
       "            Search Keyword Currency  Clicks  Impressions  Cost ($)  Leads  \\\n",
       "0  pool reservation system      USD       2           17     38.33      0   \n",
       "\n",
       "   Prospects  Payment ($) Payment Date Country  \n",
       "0          1        980.0   2021-02-03     USA  "
      ]
     },
     "execution_count": 71,
     "metadata": {},
     "output_type": "execute_result"
    }
   ],
   "source": [
    "google_ads.head(1)"
   ]
  },
  {
   "cell_type": "code",
   "execution_count": null,
   "id": "15e3b1cf",
   "metadata": {},
   "outputs": [],
   "source": []
  },
  {
   "cell_type": "markdown",
   "id": "3affc4f0",
   "metadata": {},
   "source": [
    "#### Time series plot"
   ]
  },
  {
   "cell_type": "code",
   "execution_count": 72,
   "id": "9fa48bd5",
   "metadata": {
    "scrolled": false
   },
   "outputs": [
    {
     "data": {
      "image/png": "[encoded data removed]",
      "text/plain": [
       "<Figure size 1200x600 with 1 Axes>"
      ]
     },
     "metadata": {},
     "output_type": "display_data"
    }
   ],
   "source": [
    "plt.figure(figsize=(12, 6))\n",
    "plt.plot(google_ads['Clicks'], label='Clicks')\n",
    "plt.plot(google_ads['Impressions'], label='Impressions')\n",
    "plt.xlabel('Week')  # x-axis label as 'Week'\n",
    "plt.ylabel('Count')\n",
    "plt.title('Clicks and Impressions over Time')\n",
    "plt.legend()\n",
    "\n",
    "plt.show()\n"
   ]
  },
  {
   "cell_type": "code",
   "execution_count": 73,
   "id": "458519ac",
   "metadata": {},
   "outputs": [
    {
     "data": {
      "image/png": "[encoded data removed]",
      "text/plain": [
       "<Figure size 1200x600 with 1 Axes>"
      ]
     },
     "metadata": {},
     "output_type": "display_data"
    }
   ],
   "source": [
    "plt.figure(figsize=(12, 6))\n",
    "plt.plot(google_ads['Cost ($)'], label='Clicks')\n",
    "plt.xlabel('Week')\n",
    "plt.ylabel('Count')\n",
    "plt.title('Money spend over Time')\n",
    "plt.legend()\n",
    "\n",
    "plt.show()"
   ]
  },
  {
   "cell_type": "code",
   "execution_count": null,
   "id": "1cb73d86",
   "metadata": {},
   "outputs": [],
   "source": []
  },
  {
   "cell_type": "code",
   "execution_count": 74,
   "id": "74c92b96",
   "metadata": {},
   "outputs": [],
   "source": [
    "listing_site['Date of Report'] = pd.to_datetime(listing_site['Date of Report'])"
   ]
  },
  {
   "cell_type": "code",
   "execution_count": 75,
   "id": "953ea2a1",
   "metadata": {},
   "outputs": [],
   "source": [
    "listing_site.set_index('Date of Report', inplace=True)"
   ]
  },
  {
   "cell_type": "code",
   "execution_count": 76,
   "id": "61944308",
   "metadata": {},
   "outputs": [
    {
     "data": {
      "image/png": "[encoded data removed]",
      "text/plain": [
       "<Figure size 1000x600 with 1 Axes>"
      ]
     },
     "metadata": {},
     "output_type": "display_data"
    }
   ],
   "source": [
    "# Plotting the time series graph for 'Clicks'\n",
    "plt.figure(figsize=(10, 6))\n",
    "plt.plot(listing_site['Clicks'])\n",
    "plt.xlabel('Date')\n",
    "plt.ylabel('Clicks')\n",
    "plt.title('Time Series Graph for Clicks')\n",
    "plt.show()"
   ]
  },
  {
   "cell_type": "code",
   "execution_count": 77,
   "id": "a42f280a",
   "metadata": {
    "scrolled": false
   },
   "outputs": [
    {
     "data": {
      "image/png": "[encoded data removed]",
      "text/plain": [
       "<Figure size 1000x600 with 1 Axes>"
      ]
     },
     "metadata": {},
     "output_type": "display_data"
    }
   ],
   "source": [
    "# Plotting the time series graph for 'Money Spent ($)'\n",
    "plt.figure(figsize=(10, 6))\n",
    "plt.plot(listing_site['Money Spent ($)'])\n",
    "plt.xlabel('Date')\n",
    "plt.ylabel('Money Spent ($)')\n",
    "plt.title('Time Series Graph for Money Spent')\n",
    "plt.show()"
   ]
  },
  {
   "cell_type": "markdown",
   "id": "65e8a5bb",
   "metadata": {},
   "source": [
    "## Analyse the Impact of geography"
   ]
  },
  {
   "cell_type": "code",
   "execution_count": 78,
   "id": "a5c8a791",
   "metadata": {},
   "outputs": [],
   "source": [
    "listing_site_geo = listing_site_o[['Date of Report','Categories','Clicks','Money Spent ($)','Channel','Location','Paid']]"
   ]
  },
  {
   "cell_type": "code",
   "execution_count": 79,
   "id": "bef9de64",
   "metadata": {},
   "outputs": [],
   "source": [
    "listing_site_geo['Paid'] = listing_site_geo['Paid'].replace('[\\$,]', '', regex=True).astype(float)"
   ]
  },
  {
   "cell_type": "code",
   "execution_count": 80,
   "id": "d20540d5",
   "metadata": {},
   "outputs": [],
   "source": [
    "listing_site_geo['Paid'].fillna(0,inplace = True)"
   ]
  },
  {
   "cell_type": "code",
   "execution_count": 81,
   "id": "2c1c3077",
   "metadata": {},
   "outputs": [
    {
     "data": {
      "text/html": [
       "<div>\n",
       "<style scoped>\n",
       "    .dataframe tbody tr th:only-of-type {\n",
       "        vertical-align: middle;\n",
       "    }\n",
       "\n",
       "    .dataframe tbody tr th {\n",
       "        vertical-align: top;\n",
       "    }\n",
       "\n",
       "    .dataframe thead th {\n",
       "        text-align: right;\n",
       "    }\n",
       "</style>\n",
       "<table border=\"1\" class=\"dataframe\">\n",
       "  <thead>\n",
       "    <tr style=\"text-align: right;\">\n",
       "      <th></th>\n",
       "      <th>Date of Report</th>\n",
       "      <th>Categories</th>\n",
       "      <th>Clicks</th>\n",
       "      <th>Money Spent ($)</th>\n",
       "      <th>Channel</th>\n",
       "      <th>Location</th>\n",
       "      <th>Paid</th>\n",
       "    </tr>\n",
       "  </thead>\n",
       "  <tbody>\n",
       "    <tr>\n",
       "      <th>0</th>\n",
       "      <td>20-Oct-20</td>\n",
       "      <td>Coaching</td>\n",
       "      <td>1.0</td>\n",
       "      <td>2.0</td>\n",
       "      <td>Capterra</td>\n",
       "      <td>UNITED STATES</td>\n",
       "      <td>0.0</td>\n",
       "    </tr>\n",
       "    <tr>\n",
       "      <th>1</th>\n",
       "      <td>20-Oct-20</td>\n",
       "      <td>Dance Studio</td>\n",
       "      <td>1.0</td>\n",
       "      <td>2.0</td>\n",
       "      <td>Capterra</td>\n",
       "      <td>UNITED KINGDOM</td>\n",
       "      <td>0.0</td>\n",
       "    </tr>\n",
       "  </tbody>\n",
       "</table>\n",
       "</div>"
      ],
      "text/plain": [
       "  Date of Report    Categories  Clicks  Money Spent ($)   Channel  \\\n",
       "0      20-Oct-20      Coaching     1.0              2.0  Capterra   \n",
       "1      20-Oct-20  Dance Studio     1.0              2.0  Capterra   \n",
       "\n",
       "         Location  Paid  \n",
       "0   UNITED STATES   0.0  \n",
       "1  UNITED KINGDOM   0.0  "
      ]
     },
     "execution_count": 81,
     "metadata": {},
     "output_type": "execute_result"
    }
   ],
   "source": [
    "listing_site_geo.head(2)"
   ]
  },
  {
   "cell_type": "code",
   "execution_count": 82,
   "id": "1f5a896b",
   "metadata": {},
   "outputs": [
    {
     "data": {
      "text/html": [
       "<div>\n",
       "<style scoped>\n",
       "    .dataframe tbody tr th:only-of-type {\n",
       "        vertical-align: middle;\n",
       "    }\n",
       "\n",
       "    .dataframe tbody tr th {\n",
       "        vertical-align: top;\n",
       "    }\n",
       "\n",
       "    .dataframe thead th {\n",
       "        text-align: right;\n",
       "    }\n",
       "</style>\n",
       "<table border=\"1\" class=\"dataframe\">\n",
       "  <thead>\n",
       "    <tr style=\"text-align: right;\">\n",
       "      <th></th>\n",
       "      <th>Location</th>\n",
       "      <th>Counts</th>\n",
       "    </tr>\n",
       "  </thead>\n",
       "  <tbody>\n",
       "    <tr>\n",
       "      <th>0</th>\n",
       "      <td>UNITED STATES</td>\n",
       "      <td>902</td>\n",
       "    </tr>\n",
       "    <tr>\n",
       "      <th>1</th>\n",
       "      <td>UNITED KINGDOM</td>\n",
       "      <td>389</td>\n",
       "    </tr>\n",
       "    <tr>\n",
       "      <th>2</th>\n",
       "      <td>SINGAPORE</td>\n",
       "      <td>244</td>\n",
       "    </tr>\n",
       "    <tr>\n",
       "      <th>3</th>\n",
       "      <td>AUSTRALIA</td>\n",
       "      <td>213</td>\n",
       "    </tr>\n",
       "    <tr>\n",
       "      <th>4</th>\n",
       "      <td>CANADA</td>\n",
       "      <td>197</td>\n",
       "    </tr>\n",
       "    <tr>\n",
       "      <th>5</th>\n",
       "      <td>United States</td>\n",
       "      <td>73</td>\n",
       "    </tr>\n",
       "    <tr>\n",
       "      <th>6</th>\n",
       "      <td>United Kingdom</td>\n",
       "      <td>26</td>\n",
       "    </tr>\n",
       "    <tr>\n",
       "      <th>7</th>\n",
       "      <td>Canada</td>\n",
       "      <td>14</td>\n",
       "    </tr>\n",
       "    <tr>\n",
       "      <th>8</th>\n",
       "      <td>Singapore</td>\n",
       "      <td>12</td>\n",
       "    </tr>\n",
       "    <tr>\n",
       "      <th>9</th>\n",
       "      <td>Australia</td>\n",
       "      <td>12</td>\n",
       "    </tr>\n",
       "    <tr>\n",
       "      <th>10</th>\n",
       "      <td>USA</td>\n",
       "      <td>6</td>\n",
       "    </tr>\n",
       "    <tr>\n",
       "      <th>11</th>\n",
       "      <td>Middle East</td>\n",
       "      <td>1</td>\n",
       "    </tr>\n",
       "    <tr>\n",
       "      <th>12</th>\n",
       "      <td>UK</td>\n",
       "      <td>1</td>\n",
       "    </tr>\n",
       "    <tr>\n",
       "      <th>13</th>\n",
       "      <td>US</td>\n",
       "      <td>1</td>\n",
       "    </tr>\n",
       "  </tbody>\n",
       "</table>\n",
       "</div>"
      ],
      "text/plain": [
       "          Location  Counts\n",
       "0    UNITED STATES     902\n",
       "1   UNITED KINGDOM     389\n",
       "2        SINGAPORE     244\n",
       "3        AUSTRALIA     213\n",
       "4           CANADA     197\n",
       "5    United States      73\n",
       "6   United Kingdom      26\n",
       "7           Canada      14\n",
       "8        Singapore      12\n",
       "9        Australia      12\n",
       "10             USA       6\n",
       "11     Middle East       1\n",
       "12              UK       1\n",
       "13              US       1"
      ]
     },
     "execution_count": 82,
     "metadata": {},
     "output_type": "execute_result"
    }
   ],
   "source": [
    "location_counts = listing_site_geo['Location'].value_counts().reset_index()\n",
    "location_counts.columns = ['Location','Counts']\n",
    "location_counts"
   ]
  },
  {
   "cell_type": "code",
   "execution_count": null,
   "id": "18d66413",
   "metadata": {},
   "outputs": [],
   "source": []
  },
  {
   "cell_type": "code",
   "execution_count": 83,
   "id": "c23ed0bf",
   "metadata": {},
   "outputs": [],
   "source": [
    "listing_site_geo['Location'] = listing_site_geo['Location'].str.upper()"
   ]
  },
  {
   "cell_type": "code",
   "execution_count": 84,
   "id": "3522651b",
   "metadata": {},
   "outputs": [
    {
     "data": {
      "text/html": [
       "<div>\n",
       "<style scoped>\n",
       "    .dataframe tbody tr th:only-of-type {\n",
       "        vertical-align: middle;\n",
       "    }\n",
       "\n",
       "    .dataframe tbody tr th {\n",
       "        vertical-align: top;\n",
       "    }\n",
       "\n",
       "    .dataframe thead th {\n",
       "        text-align: right;\n",
       "    }\n",
       "</style>\n",
       "<table border=\"1\" class=\"dataframe\">\n",
       "  <thead>\n",
       "    <tr style=\"text-align: right;\">\n",
       "      <th></th>\n",
       "      <th>Location</th>\n",
       "      <th>Counts</th>\n",
       "    </tr>\n",
       "  </thead>\n",
       "  <tbody>\n",
       "    <tr>\n",
       "      <th>0</th>\n",
       "      <td>UNITED STATES</td>\n",
       "      <td>975</td>\n",
       "    </tr>\n",
       "    <tr>\n",
       "      <th>1</th>\n",
       "      <td>UNITED KINGDOM</td>\n",
       "      <td>415</td>\n",
       "    </tr>\n",
       "    <tr>\n",
       "      <th>2</th>\n",
       "      <td>SINGAPORE</td>\n",
       "      <td>256</td>\n",
       "    </tr>\n",
       "    <tr>\n",
       "      <th>3</th>\n",
       "      <td>AUSTRALIA</td>\n",
       "      <td>225</td>\n",
       "    </tr>\n",
       "    <tr>\n",
       "      <th>4</th>\n",
       "      <td>CANADA</td>\n",
       "      <td>211</td>\n",
       "    </tr>\n",
       "    <tr>\n",
       "      <th>5</th>\n",
       "      <td>USA</td>\n",
       "      <td>6</td>\n",
       "    </tr>\n",
       "    <tr>\n",
       "      <th>6</th>\n",
       "      <td>MIDDLE EAST</td>\n",
       "      <td>1</td>\n",
       "    </tr>\n",
       "    <tr>\n",
       "      <th>7</th>\n",
       "      <td>UK</td>\n",
       "      <td>1</td>\n",
       "    </tr>\n",
       "    <tr>\n",
       "      <th>8</th>\n",
       "      <td>US</td>\n",
       "      <td>1</td>\n",
       "    </tr>\n",
       "  </tbody>\n",
       "</table>\n",
       "</div>"
      ],
      "text/plain": [
       "         Location  Counts\n",
       "0   UNITED STATES     975\n",
       "1  UNITED KINGDOM     415\n",
       "2       SINGAPORE     256\n",
       "3       AUSTRALIA     225\n",
       "4          CANADA     211\n",
       "5             USA       6\n",
       "6     MIDDLE EAST       1\n",
       "7              UK       1\n",
       "8              US       1"
      ]
     },
     "execution_count": 84,
     "metadata": {},
     "output_type": "execute_result"
    }
   ],
   "source": [
    "location_counts = listing_site_geo['Location'].value_counts().reset_index()\n",
    "location_counts.columns = ['Location','Counts']\n",
    "location_counts"
   ]
  },
  {
   "cell_type": "code",
   "execution_count": 85,
   "id": "20eedc7f",
   "metadata": {},
   "outputs": [],
   "source": [
    "map = {\n",
    "    'UK': 'UNITED KINGDOM',\n",
    "    'US': 'UNITED STATES',\n",
    "    'USA': 'UNITED STATES'\n",
    "}"
   ]
  },
  {
   "cell_type": "code",
   "execution_count": 86,
   "id": "c65897b0",
   "metadata": {},
   "outputs": [],
   "source": [
    "listing_site_geo['Location'] = listing_site_geo['Location'].replace(map)"
   ]
  },
  {
   "cell_type": "code",
   "execution_count": 87,
   "id": "39d8182a",
   "metadata": {},
   "outputs": [
    {
     "data": {
      "text/html": [
       "<div>\n",
       "<style scoped>\n",
       "    .dataframe tbody tr th:only-of-type {\n",
       "        vertical-align: middle;\n",
       "    }\n",
       "\n",
       "    .dataframe tbody tr th {\n",
       "        vertical-align: top;\n",
       "    }\n",
       "\n",
       "    .dataframe thead th {\n",
       "        text-align: right;\n",
       "    }\n",
       "</style>\n",
       "<table border=\"1\" class=\"dataframe\">\n",
       "  <thead>\n",
       "    <tr style=\"text-align: right;\">\n",
       "      <th></th>\n",
       "      <th>Location</th>\n",
       "      <th>Counts</th>\n",
       "    </tr>\n",
       "  </thead>\n",
       "  <tbody>\n",
       "    <tr>\n",
       "      <th>0</th>\n",
       "      <td>UNITED STATES</td>\n",
       "      <td>982</td>\n",
       "    </tr>\n",
       "    <tr>\n",
       "      <th>1</th>\n",
       "      <td>UNITED KINGDOM</td>\n",
       "      <td>416</td>\n",
       "    </tr>\n",
       "    <tr>\n",
       "      <th>2</th>\n",
       "      <td>SINGAPORE</td>\n",
       "      <td>256</td>\n",
       "    </tr>\n",
       "    <tr>\n",
       "      <th>3</th>\n",
       "      <td>AUSTRALIA</td>\n",
       "      <td>225</td>\n",
       "    </tr>\n",
       "    <tr>\n",
       "      <th>4</th>\n",
       "      <td>CANADA</td>\n",
       "      <td>211</td>\n",
       "    </tr>\n",
       "    <tr>\n",
       "      <th>5</th>\n",
       "      <td>MIDDLE EAST</td>\n",
       "      <td>1</td>\n",
       "    </tr>\n",
       "  </tbody>\n",
       "</table>\n",
       "</div>"
      ],
      "text/plain": [
       "         Location  Counts\n",
       "0   UNITED STATES     982\n",
       "1  UNITED KINGDOM     416\n",
       "2       SINGAPORE     256\n",
       "3       AUSTRALIA     225\n",
       "4          CANADA     211\n",
       "5     MIDDLE EAST       1"
      ]
     },
     "execution_count": 87,
     "metadata": {},
     "output_type": "execute_result"
    }
   ],
   "source": [
    "location_counts = listing_site_geo['Location'].value_counts().reset_index()\n",
    "location_counts.columns = ['Location','Counts']\n",
    "location_counts"
   ]
  },
  {
   "cell_type": "code",
   "execution_count": 88,
   "id": "4e7c84ff",
   "metadata": {},
   "outputs": [
    {
     "data": {
      "image/png": "[encoded data removed]",
      "text/plain": [
       "<Figure size 1200x500 with 1 Axes>"
      ]
     },
     "metadata": {},
     "output_type": "display_data"
    }
   ],
   "source": [
    "plt.figure(figsize = (12,5))\n",
    "plt.bar(location_counts['Location'] ,location_counts['Counts'])\n",
    "plt.xlabel('Location')\n",
    "plt.ylabel('Counts')\n",
    "plt.title('Counts by Location')\n",
    "plt.show()"
   ]
  },
  {
   "cell_type": "code",
   "execution_count": 89,
   "id": "c97009eb",
   "metadata": {},
   "outputs": [
    {
     "data": {
      "text/html": [
       "<div>\n",
       "<style scoped>\n",
       "    .dataframe tbody tr th:only-of-type {\n",
       "        vertical-align: middle;\n",
       "    }\n",
       "\n",
       "    .dataframe tbody tr th {\n",
       "        vertical-align: top;\n",
       "    }\n",
       "\n",
       "    .dataframe thead th {\n",
       "        text-align: right;\n",
       "    }\n",
       "</style>\n",
       "<table border=\"1\" class=\"dataframe\">\n",
       "  <thead>\n",
       "    <tr style=\"text-align: right;\">\n",
       "      <th></th>\n",
       "      <th>Location</th>\n",
       "      <th>Clicks</th>\n",
       "      <th>Money Spent ($)</th>\n",
       "      <th>Paid</th>\n",
       "    </tr>\n",
       "  </thead>\n",
       "  <tbody>\n",
       "    <tr>\n",
       "      <th>0</th>\n",
       "      <td>AUSTRALIA</td>\n",
       "      <td>279.0</td>\n",
       "      <td>1224.25</td>\n",
       "      <td>0.0</td>\n",
       "    </tr>\n",
       "    <tr>\n",
       "      <th>1</th>\n",
       "      <td>CANADA</td>\n",
       "      <td>251.0</td>\n",
       "      <td>1369.75</td>\n",
       "      <td>2768.0</td>\n",
       "    </tr>\n",
       "    <tr>\n",
       "      <th>2</th>\n",
       "      <td>MIDDLE EAST</td>\n",
       "      <td>1.0</td>\n",
       "      <td>0.00</td>\n",
       "      <td>0.0</td>\n",
       "    </tr>\n",
       "    <tr>\n",
       "      <th>3</th>\n",
       "      <td>SINGAPORE</td>\n",
       "      <td>471.0</td>\n",
       "      <td>2243.25</td>\n",
       "      <td>1788.0</td>\n",
       "    </tr>\n",
       "    <tr>\n",
       "      <th>4</th>\n",
       "      <td>UNITED KINGDOM</td>\n",
       "      <td>713.0</td>\n",
       "      <td>4361.85</td>\n",
       "      <td>4768.0</td>\n",
       "    </tr>\n",
       "    <tr>\n",
       "      <th>5</th>\n",
       "      <td>UNITED STATES</td>\n",
       "      <td>1762.0</td>\n",
       "      <td>16024.15</td>\n",
       "      <td>14136.0</td>\n",
       "    </tr>\n",
       "  </tbody>\n",
       "</table>\n",
       "</div>"
      ],
      "text/plain": [
       "         Location  Clicks  Money Spent ($)     Paid\n",
       "0       AUSTRALIA   279.0          1224.25      0.0\n",
       "1          CANADA   251.0          1369.75   2768.0\n",
       "2     MIDDLE EAST     1.0             0.00      0.0\n",
       "3       SINGAPORE   471.0          2243.25   1788.0\n",
       "4  UNITED KINGDOM   713.0          4361.85   4768.0\n",
       "5   UNITED STATES  1762.0         16024.15  14136.0"
      ]
     },
     "execution_count": 89,
     "metadata": {},
     "output_type": "execute_result"
    }
   ],
   "source": [
    "location_analysis = listing_site_geo.groupby('Location', as_index=False)['Clicks','Money Spent ($)','Paid'].sum()\n",
    "location_analysis"
   ]
  },
  {
   "cell_type": "code",
   "execution_count": 90,
   "id": "4b350af0",
   "metadata": {
    "scrolled": true
   },
   "outputs": [
    {
     "data": {
      "text/html": [
       "<div>\n",
       "<style scoped>\n",
       "    .dataframe tbody tr th:only-of-type {\n",
       "        vertical-align: middle;\n",
       "    }\n",
       "\n",
       "    .dataframe tbody tr th {\n",
       "        vertical-align: top;\n",
       "    }\n",
       "\n",
       "    .dataframe thead th {\n",
       "        text-align: right;\n",
       "    }\n",
       "</style>\n",
       "<table border=\"1\" class=\"dataframe\">\n",
       "  <thead>\n",
       "    <tr style=\"text-align: right;\">\n",
       "      <th></th>\n",
       "      <th>Location</th>\n",
       "      <th>Clicks</th>\n",
       "      <th>Money Spent ($)</th>\n",
       "      <th>Paid</th>\n",
       "      <th>Profit</th>\n",
       "    </tr>\n",
       "  </thead>\n",
       "  <tbody>\n",
       "    <tr>\n",
       "      <th>0</th>\n",
       "      <td>AUSTRALIA</td>\n",
       "      <td>279.0</td>\n",
       "      <td>1224.25</td>\n",
       "      <td>0.0</td>\n",
       "      <td>-1224.25</td>\n",
       "    </tr>\n",
       "    <tr>\n",
       "      <th>1</th>\n",
       "      <td>CANADA</td>\n",
       "      <td>251.0</td>\n",
       "      <td>1369.75</td>\n",
       "      <td>2768.0</td>\n",
       "      <td>1398.25</td>\n",
       "    </tr>\n",
       "    <tr>\n",
       "      <th>2</th>\n",
       "      <td>MIDDLE EAST</td>\n",
       "      <td>1.0</td>\n",
       "      <td>0.00</td>\n",
       "      <td>0.0</td>\n",
       "      <td>0.00</td>\n",
       "    </tr>\n",
       "    <tr>\n",
       "      <th>3</th>\n",
       "      <td>SINGAPORE</td>\n",
       "      <td>471.0</td>\n",
       "      <td>2243.25</td>\n",
       "      <td>1788.0</td>\n",
       "      <td>-455.25</td>\n",
       "    </tr>\n",
       "    <tr>\n",
       "      <th>4</th>\n",
       "      <td>UNITED KINGDOM</td>\n",
       "      <td>713.0</td>\n",
       "      <td>4361.85</td>\n",
       "      <td>4768.0</td>\n",
       "      <td>406.15</td>\n",
       "    </tr>\n",
       "    <tr>\n",
       "      <th>5</th>\n",
       "      <td>UNITED STATES</td>\n",
       "      <td>1762.0</td>\n",
       "      <td>16024.15</td>\n",
       "      <td>14136.0</td>\n",
       "      <td>-1888.15</td>\n",
       "    </tr>\n",
       "  </tbody>\n",
       "</table>\n",
       "</div>"
      ],
      "text/plain": [
       "         Location  Clicks  Money Spent ($)     Paid   Profit\n",
       "0       AUSTRALIA   279.0          1224.25      0.0 -1224.25\n",
       "1          CANADA   251.0          1369.75   2768.0  1398.25\n",
       "2     MIDDLE EAST     1.0             0.00      0.0     0.00\n",
       "3       SINGAPORE   471.0          2243.25   1788.0  -455.25\n",
       "4  UNITED KINGDOM   713.0          4361.85   4768.0   406.15\n",
       "5   UNITED STATES  1762.0         16024.15  14136.0 -1888.15"
      ]
     },
     "execution_count": 90,
     "metadata": {},
     "output_type": "execute_result"
    }
   ],
   "source": [
    "location_analysis['Profit'] = location_analysis['Paid'] - location_analysis['Money Spent ($)']\n",
    "location_analysis"
   ]
  },
  {
   "cell_type": "code",
   "execution_count": null,
   "id": "3ff050d2",
   "metadata": {},
   "outputs": [],
   "source": []
  },
  {
   "cell_type": "code",
   "execution_count": 91,
   "id": "88e2d340",
   "metadata": {},
   "outputs": [],
   "source": [
    "location_analysis = location_analysis.merge(location_counts , on = 'Location')"
   ]
  },
  {
   "cell_type": "code",
   "execution_count": 92,
   "id": "999f93ea",
   "metadata": {},
   "outputs": [
    {
     "data": {
      "text/html": [
       "<div>\n",
       "<style scoped>\n",
       "    .dataframe tbody tr th:only-of-type {\n",
       "        vertical-align: middle;\n",
       "    }\n",
       "\n",
       "    .dataframe tbody tr th {\n",
       "        vertical-align: top;\n",
       "    }\n",
       "\n",
       "    .dataframe thead th {\n",
       "        text-align: right;\n",
       "    }\n",
       "</style>\n",
       "<table border=\"1\" class=\"dataframe\">\n",
       "  <thead>\n",
       "    <tr style=\"text-align: right;\">\n",
       "      <th></th>\n",
       "      <th>Location</th>\n",
       "      <th>Clicks</th>\n",
       "      <th>Money Spent ($)</th>\n",
       "      <th>Paid</th>\n",
       "      <th>Profit</th>\n",
       "      <th>Counts</th>\n",
       "      <th>Average Spent</th>\n",
       "    </tr>\n",
       "  </thead>\n",
       "  <tbody>\n",
       "    <tr>\n",
       "      <th>0</th>\n",
       "      <td>AUSTRALIA</td>\n",
       "      <td>279.0</td>\n",
       "      <td>1224.25</td>\n",
       "      <td>0.0</td>\n",
       "      <td>-1224.25</td>\n",
       "      <td>225</td>\n",
       "      <td>5.441111</td>\n",
       "    </tr>\n",
       "    <tr>\n",
       "      <th>1</th>\n",
       "      <td>CANADA</td>\n",
       "      <td>251.0</td>\n",
       "      <td>1369.75</td>\n",
       "      <td>2768.0</td>\n",
       "      <td>1398.25</td>\n",
       "      <td>211</td>\n",
       "      <td>6.491706</td>\n",
       "    </tr>\n",
       "    <tr>\n",
       "      <th>2</th>\n",
       "      <td>MIDDLE EAST</td>\n",
       "      <td>1.0</td>\n",
       "      <td>0.00</td>\n",
       "      <td>0.0</td>\n",
       "      <td>0.00</td>\n",
       "      <td>1</td>\n",
       "      <td>0.000000</td>\n",
       "    </tr>\n",
       "    <tr>\n",
       "      <th>3</th>\n",
       "      <td>SINGAPORE</td>\n",
       "      <td>471.0</td>\n",
       "      <td>2243.25</td>\n",
       "      <td>1788.0</td>\n",
       "      <td>-455.25</td>\n",
       "      <td>256</td>\n",
       "      <td>8.762695</td>\n",
       "    </tr>\n",
       "    <tr>\n",
       "      <th>4</th>\n",
       "      <td>UNITED KINGDOM</td>\n",
       "      <td>713.0</td>\n",
       "      <td>4361.85</td>\n",
       "      <td>4768.0</td>\n",
       "      <td>406.15</td>\n",
       "      <td>416</td>\n",
       "      <td>10.485216</td>\n",
       "    </tr>\n",
       "    <tr>\n",
       "      <th>5</th>\n",
       "      <td>UNITED STATES</td>\n",
       "      <td>1762.0</td>\n",
       "      <td>16024.15</td>\n",
       "      <td>14136.0</td>\n",
       "      <td>-1888.15</td>\n",
       "      <td>982</td>\n",
       "      <td>16.317872</td>\n",
       "    </tr>\n",
       "  </tbody>\n",
       "</table>\n",
       "</div>"
      ],
      "text/plain": [
       "         Location  Clicks  Money Spent ($)     Paid   Profit  Counts  \\\n",
       "0       AUSTRALIA   279.0          1224.25      0.0 -1224.25     225   \n",
       "1          CANADA   251.0          1369.75   2768.0  1398.25     211   \n",
       "2     MIDDLE EAST     1.0             0.00      0.0     0.00       1   \n",
       "3       SINGAPORE   471.0          2243.25   1788.0  -455.25     256   \n",
       "4  UNITED KINGDOM   713.0          4361.85   4768.0   406.15     416   \n",
       "5   UNITED STATES  1762.0         16024.15  14136.0 -1888.15     982   \n",
       "\n",
       "   Average Spent  \n",
       "0       5.441111  \n",
       "1       6.491706  \n",
       "2       0.000000  \n",
       "3       8.762695  \n",
       "4      10.485216  \n",
       "5      16.317872  "
      ]
     },
     "execution_count": 92,
     "metadata": {},
     "output_type": "execute_result"
    }
   ],
   "source": [
    "location_analysis['Average Spent'] = location_analysis['Money Spent ($)'] / location_analysis['Counts']\n",
    "location_analysis"
   ]
  },
  {
   "cell_type": "code",
   "execution_count": 93,
   "id": "6b739b7b",
   "metadata": {
    "scrolled": false
   },
   "outputs": [
    {
     "data": {
      "image/png": "[encoded data removed]",
      "text/plain": [
       "<Figure size 1200x500 with 1 Axes>"
      ]
     },
     "metadata": {},
     "output_type": "display_data"
    }
   ],
   "source": [
    "plt.figure(figsize = (12,5))\n",
    "plt.bar(location_analysis['Location'] ,location_analysis['Average Spent'])\n",
    "plt.xlabel('Location')\n",
    "plt.ylabel('Average Spent')\n",
    "plt.title('Average Spent by Location')\n",
    "plt.show()"
   ]
  },
  {
   "cell_type": "code",
   "execution_count": 94,
   "id": "1b36b61c",
   "metadata": {
    "scrolled": false
   },
   "outputs": [
    {
     "data": {
      "image/png": "[encoded data removed]",
      "text/plain": [
       "<Figure size 1200x500 with 1 Axes>"
      ]
     },
     "metadata": {},
     "output_type": "display_data"
    }
   ],
   "source": [
    "plt.figure(figsize = (12,5))\n",
    "colors = ['green' if profit > 0 else 'brown' for profit in location_analysis['Profit']]\n",
    "plt.bar(location_analysis['Location'] ,location_analysis['Profit'], color = colors)\n",
    "plt.xlabel('Location')\n",
    "plt.ylabel('Profit')\n",
    "plt.axhline(0)\n",
    "plt.title('Profit by Location')\n",
    "plt.show()"
   ]
  },
  {
   "cell_type": "code",
   "execution_count": null,
   "id": "b31db17d",
   "metadata": {},
   "outputs": [],
   "source": []
  },
  {
   "cell_type": "code",
   "execution_count": 95,
   "id": "ac739a72",
   "metadata": {},
   "outputs": [
    {
     "data": {
      "text/html": [
       "<div>\n",
       "<style scoped>\n",
       "    .dataframe tbody tr th:only-of-type {\n",
       "        vertical-align: middle;\n",
       "    }\n",
       "\n",
       "    .dataframe tbody tr th {\n",
       "        vertical-align: top;\n",
       "    }\n",
       "\n",
       "    .dataframe thead th {\n",
       "        text-align: right;\n",
       "    }\n",
       "</style>\n",
       "<table border=\"1\" class=\"dataframe\">\n",
       "  <thead>\n",
       "    <tr style=\"text-align: right;\">\n",
       "      <th></th>\n",
       "      <th>Date of Report</th>\n",
       "      <th>Categories</th>\n",
       "      <th>Clicks</th>\n",
       "      <th>Money Spent ($)</th>\n",
       "      <th>Channel</th>\n",
       "      <th>Location</th>\n",
       "      <th>Paid</th>\n",
       "    </tr>\n",
       "  </thead>\n",
       "  <tbody>\n",
       "    <tr>\n",
       "      <th>7</th>\n",
       "      <td>21-Oct-20</td>\n",
       "      <td>Personal Trainer</td>\n",
       "      <td>1.0</td>\n",
       "      <td>2.0</td>\n",
       "      <td>GetApp</td>\n",
       "      <td>CANADA</td>\n",
       "      <td>0.0</td>\n",
       "    </tr>\n",
       "  </tbody>\n",
       "</table>\n",
       "</div>"
      ],
      "text/plain": [
       "  Date of Report        Categories  Clicks  Money Spent ($) Channel Location  \\\n",
       "7      21-Oct-20  Personal Trainer     1.0              2.0  GetApp   CANADA   \n",
       "\n",
       "   Paid  \n",
       "7   0.0  "
      ]
     },
     "execution_count": 95,
     "metadata": {},
     "output_type": "execute_result"
    }
   ],
   "source": [
    "canada = listing_site_geo[listing_site_geo['Location']=='CANADA']\n",
    "canada.head(1)"
   ]
  },
  {
   "cell_type": "code",
   "execution_count": 96,
   "id": "4107ae4b",
   "metadata": {},
   "outputs": [
    {
     "data": {
      "text/html": [
       "<div>\n",
       "<style scoped>\n",
       "    .dataframe tbody tr th:only-of-type {\n",
       "        vertical-align: middle;\n",
       "    }\n",
       "\n",
       "    .dataframe tbody tr th {\n",
       "        vertical-align: top;\n",
       "    }\n",
       "\n",
       "    .dataframe thead th {\n",
       "        text-align: right;\n",
       "    }\n",
       "</style>\n",
       "<table border=\"1\" class=\"dataframe\">\n",
       "  <thead>\n",
       "    <tr style=\"text-align: right;\">\n",
       "      <th></th>\n",
       "      <th>Categories</th>\n",
       "      <th>Clicks</th>\n",
       "      <th>Money Spent ($)</th>\n",
       "      <th>Paid</th>\n",
       "      <th>Profit</th>\n",
       "    </tr>\n",
       "  </thead>\n",
       "  <tbody>\n",
       "    <tr>\n",
       "      <th>0</th>\n",
       "      <td>Camp Management</td>\n",
       "      <td>5.0</td>\n",
       "      <td>10.00</td>\n",
       "      <td>0.0</td>\n",
       "      <td>-10.00</td>\n",
       "    </tr>\n",
       "    <tr>\n",
       "      <th>1</th>\n",
       "      <td>Class Registration</td>\n",
       "      <td>44.0</td>\n",
       "      <td>300.50</td>\n",
       "      <td>980.0</td>\n",
       "      <td>679.50</td>\n",
       "    </tr>\n",
       "    <tr>\n",
       "      <th>2</th>\n",
       "      <td>Coaching</td>\n",
       "      <td>30.0</td>\n",
       "      <td>101.25</td>\n",
       "      <td>0.0</td>\n",
       "      <td>-101.25</td>\n",
       "    </tr>\n",
       "    <tr>\n",
       "      <th>3</th>\n",
       "      <td>Dance Studio</td>\n",
       "      <td>9.0</td>\n",
       "      <td>25.75</td>\n",
       "      <td>0.0</td>\n",
       "      <td>-25.75</td>\n",
       "    </tr>\n",
       "    <tr>\n",
       "      <th>4</th>\n",
       "      <td>Fitness</td>\n",
       "      <td>19.0</td>\n",
       "      <td>158.00</td>\n",
       "      <td>0.0</td>\n",
       "      <td>-158.00</td>\n",
       "    </tr>\n",
       "    <tr>\n",
       "      <th>5</th>\n",
       "      <td>Membership Management</td>\n",
       "      <td>39.0</td>\n",
       "      <td>255.75</td>\n",
       "      <td>1788.0</td>\n",
       "      <td>1532.25</td>\n",
       "    </tr>\n",
       "    <tr>\n",
       "      <th>6</th>\n",
       "      <td>Parks and Recreation</td>\n",
       "      <td>21.0</td>\n",
       "      <td>69.00</td>\n",
       "      <td>0.0</td>\n",
       "      <td>-69.00</td>\n",
       "    </tr>\n",
       "    <tr>\n",
       "      <th>7</th>\n",
       "      <td>Personal Trainer</td>\n",
       "      <td>10.0</td>\n",
       "      <td>20.00</td>\n",
       "      <td>0.0</td>\n",
       "      <td>-20.00</td>\n",
       "    </tr>\n",
       "    <tr>\n",
       "      <th>8</th>\n",
       "      <td>Reservations</td>\n",
       "      <td>27.0</td>\n",
       "      <td>149.25</td>\n",
       "      <td>0.0</td>\n",
       "      <td>-149.25</td>\n",
       "    </tr>\n",
       "    <tr>\n",
       "      <th>9</th>\n",
       "      <td>Scheduling</td>\n",
       "      <td>32.0</td>\n",
       "      <td>247.00</td>\n",
       "      <td>0.0</td>\n",
       "      <td>-247.00</td>\n",
       "    </tr>\n",
       "    <tr>\n",
       "      <th>10</th>\n",
       "      <td>Spa</td>\n",
       "      <td>1.0</td>\n",
       "      <td>2.00</td>\n",
       "      <td>0.0</td>\n",
       "      <td>-2.00</td>\n",
       "    </tr>\n",
       "    <tr>\n",
       "      <th>11</th>\n",
       "      <td>Swim School</td>\n",
       "      <td>6.0</td>\n",
       "      <td>12.00</td>\n",
       "      <td>0.0</td>\n",
       "      <td>-12.00</td>\n",
       "    </tr>\n",
       "    <tr>\n",
       "      <th>12</th>\n",
       "      <td>Venue Management</td>\n",
       "      <td>3.0</td>\n",
       "      <td>6.00</td>\n",
       "      <td>0.0</td>\n",
       "      <td>-6.00</td>\n",
       "    </tr>\n",
       "    <tr>\n",
       "      <th>13</th>\n",
       "      <td>Yoga Studio</td>\n",
       "      <td>5.0</td>\n",
       "      <td>13.25</td>\n",
       "      <td>0.0</td>\n",
       "      <td>-13.25</td>\n",
       "    </tr>\n",
       "  </tbody>\n",
       "</table>\n",
       "</div>"
      ],
      "text/plain": [
       "               Categories  Clicks  Money Spent ($)    Paid   Profit\n",
       "0         Camp Management     5.0            10.00     0.0   -10.00\n",
       "1      Class Registration    44.0           300.50   980.0   679.50\n",
       "2                Coaching    30.0           101.25     0.0  -101.25\n",
       "3            Dance Studio     9.0            25.75     0.0   -25.75\n",
       "4                 Fitness    19.0           158.00     0.0  -158.00\n",
       "5   Membership Management    39.0           255.75  1788.0  1532.25\n",
       "6    Parks and Recreation    21.0            69.00     0.0   -69.00\n",
       "7        Personal Trainer    10.0            20.00     0.0   -20.00\n",
       "8            Reservations    27.0           149.25     0.0  -149.25\n",
       "9              Scheduling    32.0           247.00     0.0  -247.00\n",
       "10                    Spa     1.0             2.00     0.0    -2.00\n",
       "11            Swim School     6.0            12.00     0.0   -12.00\n",
       "12       Venue Management     3.0             6.00     0.0    -6.00\n",
       "13            Yoga Studio     5.0            13.25     0.0   -13.25"
      ]
     },
     "execution_count": 96,
     "metadata": {},
     "output_type": "execute_result"
    }
   ],
   "source": [
    "canada_categories = canada.groupby('Categories', as_index=False)['Clicks','Money Spent ($)','Paid'].sum()\n",
    "canada_categories['Profit'] = canada_categories['Paid'] - canada_categories['Money Spent ($)']\n",
    "canada_categories"
   ]
  },
  {
   "cell_type": "code",
   "execution_count": 97,
   "id": "6e13a1bc",
   "metadata": {},
   "outputs": [
    {
     "data": {
      "image/png": "[encoded data removed]",
      "text/plain": [
       "<Figure size 1000x900 with 3 Axes>"
      ]
     },
     "metadata": {},
     "output_type": "display_data"
    }
   ],
   "source": [
    "fig, ax = plt.subplots(3, 1, figsize=(10, 9))\n",
    "\n",
    "ax[0].barh(canada_categories['Categories'],canada_categories['Clicks'])\n",
    "ax[0].invert_yaxis()\n",
    "ax[0].set_title('Clicks per Category in Canada')\n",
    "\n",
    "ax[1].barh(canada_categories['Categories'],canada_categories['Money Spent ($)'])\n",
    "ax[1].invert_yaxis()\n",
    "ax[1].set_title('Money Spent per Category in Canada')\n",
    "\n",
    "ax[2].barh(canada_categories['Categories'],canada_categories['Profit'])\n",
    "ax[2].invert_yaxis()\n",
    "# ax[2].axvline(0,color = 'black')\n",
    "ax[2].set_title('Profit per Category in Canada')\n",
    "\n",
    "plt.tight_layout()\n",
    "plt.show()"
   ]
  },
  {
   "cell_type": "code",
   "execution_count": null,
   "id": "3664295f",
   "metadata": {},
   "outputs": [],
   "source": []
  },
  {
   "cell_type": "code",
   "execution_count": null,
   "id": "c1c4f09b",
   "metadata": {},
   "outputs": [],
   "source": []
  },
  {
   "cell_type": "code",
   "execution_count": 98,
   "id": "e46a812a",
   "metadata": {},
   "outputs": [],
   "source": [
    "usa = listing_site_geo[listing_site_geo['Location']=='UNITED STATES']"
   ]
  },
  {
   "cell_type": "code",
   "execution_count": 99,
   "id": "0fe812cf",
   "metadata": {},
   "outputs": [
    {
     "data": {
      "text/html": [
       "<div>\n",
       "<style scoped>\n",
       "    .dataframe tbody tr th:only-of-type {\n",
       "        vertical-align: middle;\n",
       "    }\n",
       "\n",
       "    .dataframe tbody tr th {\n",
       "        vertical-align: top;\n",
       "    }\n",
       "\n",
       "    .dataframe thead th {\n",
       "        text-align: right;\n",
       "    }\n",
       "</style>\n",
       "<table border=\"1\" class=\"dataframe\">\n",
       "  <thead>\n",
       "    <tr style=\"text-align: right;\">\n",
       "      <th></th>\n",
       "      <th>Categories</th>\n",
       "      <th>Clicks</th>\n",
       "      <th>Money Spent ($)</th>\n",
       "      <th>Paid</th>\n",
       "      <th>Profit</th>\n",
       "    </tr>\n",
       "  </thead>\n",
       "  <tbody>\n",
       "    <tr>\n",
       "      <th>0</th>\n",
       "      <td>Camp Management</td>\n",
       "      <td>15.0</td>\n",
       "      <td>30.00</td>\n",
       "      <td>0.0</td>\n",
       "      <td>-30.00</td>\n",
       "    </tr>\n",
       "    <tr>\n",
       "      <th>1</th>\n",
       "      <td>Class Registration</td>\n",
       "      <td>241.0</td>\n",
       "      <td>2353.00</td>\n",
       "      <td>3323.0</td>\n",
       "      <td>970.00</td>\n",
       "    </tr>\n",
       "    <tr>\n",
       "      <th>2</th>\n",
       "      <td>Club Management</td>\n",
       "      <td>7.0</td>\n",
       "      <td>40.75</td>\n",
       "      <td>0.0</td>\n",
       "      <td>-40.75</td>\n",
       "    </tr>\n",
       "    <tr>\n",
       "      <th>3</th>\n",
       "      <td>Coaching</td>\n",
       "      <td>186.0</td>\n",
       "      <td>701.75</td>\n",
       "      <td>0.0</td>\n",
       "      <td>-701.75</td>\n",
       "    </tr>\n",
       "    <tr>\n",
       "      <th>4</th>\n",
       "      <td>Dance Studio</td>\n",
       "      <td>14.0</td>\n",
       "      <td>99.50</td>\n",
       "      <td>0.0</td>\n",
       "      <td>-99.50</td>\n",
       "    </tr>\n",
       "    <tr>\n",
       "      <th>5</th>\n",
       "      <td>Fitness</td>\n",
       "      <td>80.0</td>\n",
       "      <td>723.00</td>\n",
       "      <td>1188.0</td>\n",
       "      <td>465.00</td>\n",
       "    </tr>\n",
       "    <tr>\n",
       "      <th>6</th>\n",
       "      <td>Gymnastics</td>\n",
       "      <td>3.0</td>\n",
       "      <td>6.00</td>\n",
       "      <td>0.0</td>\n",
       "      <td>-6.00</td>\n",
       "    </tr>\n",
       "    <tr>\n",
       "      <th>7</th>\n",
       "      <td>Martial Arts</td>\n",
       "      <td>1.0</td>\n",
       "      <td>2.00</td>\n",
       "      <td>0.0</td>\n",
       "      <td>-2.00</td>\n",
       "    </tr>\n",
       "    <tr>\n",
       "      <th>8</th>\n",
       "      <td>Membership Management</td>\n",
       "      <td>190.0</td>\n",
       "      <td>1925.00</td>\n",
       "      <td>0.0</td>\n",
       "      <td>-1925.00</td>\n",
       "    </tr>\n",
       "    <tr>\n",
       "      <th>9</th>\n",
       "      <td>Music School</td>\n",
       "      <td>9.0</td>\n",
       "      <td>36.00</td>\n",
       "      <td>0.0</td>\n",
       "      <td>-36.00</td>\n",
       "    </tr>\n",
       "    <tr>\n",
       "      <th>10</th>\n",
       "      <td>Parks and Recreation</td>\n",
       "      <td>60.0</td>\n",
       "      <td>269.65</td>\n",
       "      <td>4000.0</td>\n",
       "      <td>3730.35</td>\n",
       "    </tr>\n",
       "    <tr>\n",
       "      <th>11</th>\n",
       "      <td>Personal Trainer</td>\n",
       "      <td>18.0</td>\n",
       "      <td>36.00</td>\n",
       "      <td>0.0</td>\n",
       "      <td>-36.00</td>\n",
       "    </tr>\n",
       "    <tr>\n",
       "      <th>12</th>\n",
       "      <td>Pilates Studio</td>\n",
       "      <td>1.0</td>\n",
       "      <td>3.50</td>\n",
       "      <td>0.0</td>\n",
       "      <td>-3.50</td>\n",
       "    </tr>\n",
       "    <tr>\n",
       "      <th>13</th>\n",
       "      <td>Reservations</td>\n",
       "      <td>405.0</td>\n",
       "      <td>4338.50</td>\n",
       "      <td>4437.0</td>\n",
       "      <td>98.50</td>\n",
       "    </tr>\n",
       "    <tr>\n",
       "      <th>14</th>\n",
       "      <td>Scheduling</td>\n",
       "      <td>429.0</td>\n",
       "      <td>4710.50</td>\n",
       "      <td>1188.0</td>\n",
       "      <td>-3522.50</td>\n",
       "    </tr>\n",
       "    <tr>\n",
       "      <th>15</th>\n",
       "      <td>Spa</td>\n",
       "      <td>3.0</td>\n",
       "      <td>12.50</td>\n",
       "      <td>0.0</td>\n",
       "      <td>-12.50</td>\n",
       "    </tr>\n",
       "    <tr>\n",
       "      <th>16</th>\n",
       "      <td>Swim School</td>\n",
       "      <td>41.0</td>\n",
       "      <td>368.75</td>\n",
       "      <td>0.0</td>\n",
       "      <td>-368.75</td>\n",
       "    </tr>\n",
       "    <tr>\n",
       "      <th>17</th>\n",
       "      <td>Venue Management</td>\n",
       "      <td>11.0</td>\n",
       "      <td>26.75</td>\n",
       "      <td>0.0</td>\n",
       "      <td>-26.75</td>\n",
       "    </tr>\n",
       "    <tr>\n",
       "      <th>18</th>\n",
       "      <td>Yoga Studio</td>\n",
       "      <td>48.0</td>\n",
       "      <td>341.00</td>\n",
       "      <td>0.0</td>\n",
       "      <td>-341.00</td>\n",
       "    </tr>\n",
       "  </tbody>\n",
       "</table>\n",
       "</div>"
      ],
      "text/plain": [
       "               Categories  Clicks  Money Spent ($)    Paid   Profit\n",
       "0         Camp Management    15.0            30.00     0.0   -30.00\n",
       "1      Class Registration   241.0          2353.00  3323.0   970.00\n",
       "2         Club Management     7.0            40.75     0.0   -40.75\n",
       "3                Coaching   186.0           701.75     0.0  -701.75\n",
       "4            Dance Studio    14.0            99.50     0.0   -99.50\n",
       "5                 Fitness    80.0           723.00  1188.0   465.00\n",
       "6              Gymnastics     3.0             6.00     0.0    -6.00\n",
       "7            Martial Arts     1.0             2.00     0.0    -2.00\n",
       "8   Membership Management   190.0          1925.00     0.0 -1925.00\n",
       "9            Music School     9.0            36.00     0.0   -36.00\n",
       "10   Parks and Recreation    60.0           269.65  4000.0  3730.35\n",
       "11       Personal Trainer    18.0            36.00     0.0   -36.00\n",
       "12         Pilates Studio     1.0             3.50     0.0    -3.50\n",
       "13           Reservations   405.0          4338.50  4437.0    98.50\n",
       "14             Scheduling   429.0          4710.50  1188.0 -3522.50\n",
       "15                    Spa     3.0            12.50     0.0   -12.50\n",
       "16            Swim School    41.0           368.75     0.0  -368.75\n",
       "17       Venue Management    11.0            26.75     0.0   -26.75\n",
       "18            Yoga Studio    48.0           341.00     0.0  -341.00"
      ]
     },
     "execution_count": 99,
     "metadata": {},
     "output_type": "execute_result"
    }
   ],
   "source": [
    "usa_categories = usa.groupby('Categories', as_index=False)['Clicks','Money Spent ($)','Paid'].sum()\n",
    "usa_categories['Profit'] = usa_categories['Paid'] - usa_categories['Money Spent ($)']\n",
    "usa_categories"
   ]
  },
  {
   "cell_type": "code",
   "execution_count": null,
   "id": "7a9bacdc",
   "metadata": {},
   "outputs": [],
   "source": []
  },
  {
   "cell_type": "code",
   "execution_count": 100,
   "id": "e69eaa93",
   "metadata": {},
   "outputs": [
    {
     "data": {
      "image/png": "[encoded data removed]",
      "text/plain": [
       "<Figure size 1000x900 with 3 Axes>"
      ]
     },
     "metadata": {},
     "output_type": "display_data"
    }
   ],
   "source": [
    "fig, ax = plt.subplots(3, 1, figsize=(10, 9))\n",
    "\n",
    "ax[0].barh(usa_categories['Categories'],usa_categories['Clicks'])\n",
    "ax[0].invert_yaxis()\n",
    "ax[0].set_title('Clicks per Category in United States')\n",
    "\n",
    "ax[1].barh(usa_categories['Categories'],usa_categories['Money Spent ($)'])\n",
    "ax[1].invert_yaxis()\n",
    "ax[1].set_title('Money Spent per Category in United States')\n",
    "\n",
    "ax[2].barh(usa_categories['Categories'],usa_categories['Profit'])\n",
    "ax[2].invert_yaxis()\n",
    "ax[2].set_title('Profit per Category in United States')\n",
    "\n",
    "plt.tight_layout()\n",
    "plt.show()"
   ]
  },
  {
   "cell_type": "code",
   "execution_count": null,
   "id": "b9f5f010",
   "metadata": {},
   "outputs": [],
   "source": []
  },
  {
   "cell_type": "code",
   "execution_count": 101,
   "id": "76d2c8a5",
   "metadata": {},
   "outputs": [],
   "source": [
    "location_analysis.to_csv('location_analysis.csv',index = False)"
   ]
  }
 ],
 "metadata": {
  "kernelspec": {
   "display_name": "Python 3 (ipykernel)",
   "language": "python",
   "name": "python3"
  },
  "language_info": {
   "codemirror_mode": {
    "name": "ipython",
    "version": 3
   },
   "file_extension": ".py",
   "mimetype": "text/x-python",
   "name": "python",
   "nbconvert_exporter": "python",
   "pygments_lexer": "ipython3",
   "version": "3.11.3"
  }
 },
 "nbformat": 4,
 "nbformat_minor": 5
}
